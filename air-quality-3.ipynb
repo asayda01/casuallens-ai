{
 "cells": [
  {
   "cell_type": "code",
   "execution_count": 1,
   "metadata": {},
   "outputs": [
    {
     "data": {
      "text/plain": [
       "'\\n\\n--------------------------------\\n20 January 2021 - 15:00:00 \\n\\nCasuallens AI\\n\\nInterview Coding Test\\n\\nwww.testdome.com\\n--------------------------------\\n\\n\\nIn this challenge, you will explore a public dataset containing various \\nhourly air quality measurements from a roadside sensor in an Italian city.\\n\\nYou can find the data here\\n\\nhttps://archive.ics.uci.edu/ml/datasets/Air+Quality\\n\\nRead the dataset information on that page carefully and answer the following questions using\\npython libraries.\\n\\nQ-1\\n\"______\" was the maximum CO concentration recorded during May 2004.\\n\\nQ-2\\nLooking at the highest recordings of NOX, \"______\" hour of the day and \"______\" as the\\n day of the week was most common.\\n\\nQ-3\\n\"______\" was the total NO2 recorded in January 2005.\\n\\nQ-4\\nMonth \"______\" of the \"______\"  year had the lowest average absolute humidity.\\n\\nQ-5\\nMonth \"______\" of the \"______\"  year had the highest variability in temperature (maximum - minimum)\\n\\nQ-6\\nWhich two columns have the most values missing? Seperate your answer with a comma.\\nColumns:\"______\" ,\"______\" \\n\\n\\nQ-7\\n\\nIn this section you will build a linear model to predict CO concentration on hour ahead and compare\\nit to a simple benchmark.\\n\\nConstruct a new column called \"target\" which is the CO concentration lagged forward by one time step.\\n\\nCalculate the Pearson correlation matrix for all variables.\\nWhich 5 variables are most correlated with \"target\" (excluding the CO concentration itself)\\nfrom highest to lowest?\\n\\n\"______\" \\n\\n\"______\" \\n\\n\"______\" \\n\\n\"______\" \\n\\n\"______\" \\n\\n\\n\\nQ-8\\n\\nUse these variables(along with the CO concentration) as inputs for a linear regression predicting\\nthe CO concentration one hour ahead. \\n\\nFor simplicity we recommend using the scikit-learn LinearRegression implementation, but you should\\nexclude rows containing any missing values. \\n\\nSplit your dataset into a training and testing set with a 60-40 ratio.\\n\\nCalculate the mean absolute error, root mean squared error and coefficient of determination\\n(\"R squared\") of your model on the test set.\\n\\nMean absolute error\\n\"______\" \\n\\nRoot mean square error\\n\"______\" \\n\\nR squared\\n\"______\" \\n\\n\\nQ-9\\n\\nConstruct a simple benchmark model that says the prediction for the CO concentration for the next\\nhour is the same as the current hour.\\n\\nCalculate the same 3 regression metrics.\\n\\nMean absolute error\\n\"______\" \\n\\nRoot mean square error\\n\"______\" \\n\\nR squared\\n\"______\" \\n\\n\\n'"
      ]
     },
     "execution_count": 1,
     "metadata": {},
     "output_type": "execute_result"
    }
   ],
   "source": [
    "\"\"\"\n",
    "\n",
    "--------------------------------\n",
    "20 January 2021 - 15:00:00 \n",
    "\n",
    "Casuallens AI\n",
    "\n",
    "Interview Coding Test\n",
    "\n",
    "www.testdome.com\n",
    "--------------------------------\n",
    "\n",
    "\n",
    "In this challenge, you will explore a public dataset containing various \n",
    "hourly air quality measurements from a roadside sensor in an Italian city.\n",
    "\n",
    "You can find the data here\n",
    "\n",
    "https://archive.ics.uci.edu/ml/datasets/Air+Quality\n",
    "\n",
    "Read the dataset information on that page carefully and answer the following questions using\n",
    "python libraries.\n",
    "\n",
    "Q-1\n",
    "\"______\" was the maximum CO concentration recorded during May 2004.\n",
    "\n",
    "Q-2\n",
    "Looking at the highest recordings of NOX, \"______\" hour of the day and \"______\" as the\n",
    " day of the week was most common.\n",
    "\n",
    "Q-3\n",
    "\"______\" was the total NO2 recorded in January 2005.\n",
    "\n",
    "Q-4\n",
    "Month \"______\" of the \"______\"  year had the lowest average absolute humidity.\n",
    "\n",
    "Q-5\n",
    "Month \"______\" of the \"______\"  year had the highest variability in temperature (maximum - minimum)\n",
    "\n",
    "Q-6\n",
    "Which two columns have the most values missing? Seperate your answer with a comma.\n",
    "Columns:\"______\" ,\"______\" \n",
    "\n",
    "\n",
    "Q-7\n",
    "\n",
    "In this section you will build a linear model to predict CO concentration on hour ahead and compare\n",
    "it to a simple benchmark.\n",
    "\n",
    "Construct a new column called \"target\" which is the CO concentration lagged forward by one time step.\n",
    "\n",
    "Calculate the Pearson correlation matrix for all variables.\n",
    "Which 5 variables are most correlated with \"target\" (excluding the CO concentration itself)\n",
    "from highest to lowest?\n",
    "\n",
    "\"______\" \n",
    "\n",
    "\"______\" \n",
    "\n",
    "\"______\" \n",
    "\n",
    "\"______\" \n",
    "\n",
    "\"______\" \n",
    "\n",
    "\n",
    "\n",
    "Q-8\n",
    "\n",
    "Use these variables(along with the CO concentration) as inputs for a linear regression predicting\n",
    "the CO concentration one hour ahead. \n",
    "\n",
    "For simplicity we recommend using the scikit-learn LinearRegression implementation, but you should\n",
    "exclude rows containing any missing values. \n",
    "\n",
    "Split your dataset into a training and testing set with a 60-40 ratio.\n",
    "\n",
    "Calculate the mean absolute error, root mean squared error and coefficient of determination\n",
    "(\"R squared\") of your model on the test set.\n",
    "\n",
    "Mean absolute error\n",
    "\"______\" \n",
    "\n",
    "Root mean square error\n",
    "\"______\" \n",
    "\n",
    "R squared\n",
    "\"______\" \n",
    "\n",
    "\n",
    "Q-9\n",
    "\n",
    "Construct a simple benchmark model that says the prediction for the CO concentration for the next\n",
    "hour is the same as the current hour.\n",
    "\n",
    "Calculate the same 3 regression metrics.\n",
    "\n",
    "Mean absolute error\n",
    "\"______\" \n",
    "\n",
    "Root mean square error\n",
    "\"______\" \n",
    "\n",
    "R squared\n",
    "\"______\" \n",
    "\n",
    "\n",
    "\"\"\""
   ]
  },
  {
   "cell_type": "code",
   "execution_count": 2,
   "metadata": {},
   "outputs": [],
   "source": [
    "import pandas as pd\n",
    "import numpy as np\n",
    "import matplotlib.pyplot as plt\n",
    "import seaborn as sns\n",
    "import plotly.express as px\n",
    "import sklearn.metrics\n",
    "import math\n",
    "import datetime as dt\n",
    "%matplotlib inline"
   ]
  },
  {
   "cell_type": "code",
   "execution_count": 3,
   "metadata": {},
   "outputs": [],
   "source": [
    "df = pd.read_csv('11111.csv')"
   ]
  },
  {
   "cell_type": "code",
   "execution_count": 4,
   "metadata": {},
   "outputs": [
    {
     "data": {
      "text/html": [
       "<div>\n",
       "<style scoped>\n",
       "    .dataframe tbody tr th:only-of-type {\n",
       "        vertical-align: middle;\n",
       "    }\n",
       "\n",
       "    .dataframe tbody tr th {\n",
       "        vertical-align: top;\n",
       "    }\n",
       "\n",
       "    .dataframe thead th {\n",
       "        text-align: right;\n",
       "    }\n",
       "</style>\n",
       "<table border=\"1\" class=\"dataframe\">\n",
       "  <thead>\n",
       "    <tr style=\"text-align: right;\">\n",
       "      <th></th>\n",
       "      <th>Date</th>\n",
       "      <th>Time</th>\n",
       "      <th>CO(GT)</th>\n",
       "      <th>PT08.S1(CO)</th>\n",
       "      <th>NMHC(GT)</th>\n",
       "      <th>C6H6(GT)</th>\n",
       "      <th>PT08.S2(NMHC)</th>\n",
       "      <th>NOx(GT)</th>\n",
       "      <th>PT08.S3(NOx)</th>\n",
       "      <th>NO2(GT)</th>\n",
       "      <th>PT08.S4(NO2)</th>\n",
       "      <th>PT08.S5(O3)</th>\n",
       "      <th>T</th>\n",
       "      <th>RH</th>\n",
       "      <th>AH</th>\n",
       "      <th>Unnamed: 15</th>\n",
       "      <th>Unnamed: 16</th>\n",
       "    </tr>\n",
       "  </thead>\n",
       "  <tbody>\n",
       "    <tr>\n",
       "      <th>0</th>\n",
       "      <td>10/03/2004</td>\n",
       "      <td>18:00:00</td>\n",
       "      <td>2.6</td>\n",
       "      <td>1360.0</td>\n",
       "      <td>150.0</td>\n",
       "      <td>11.9</td>\n",
       "      <td>1046.0</td>\n",
       "      <td>166.0</td>\n",
       "      <td>1056.0</td>\n",
       "      <td>113.0</td>\n",
       "      <td>1692.0</td>\n",
       "      <td>1268.0</td>\n",
       "      <td>13.6</td>\n",
       "      <td>48.9</td>\n",
       "      <td>0.7578</td>\n",
       "      <td>NaN</td>\n",
       "      <td>NaN</td>\n",
       "    </tr>\n",
       "    <tr>\n",
       "      <th>1</th>\n",
       "      <td>10/03/2004</td>\n",
       "      <td>19:00:00</td>\n",
       "      <td>2.0</td>\n",
       "      <td>1292.0</td>\n",
       "      <td>112.0</td>\n",
       "      <td>9.4</td>\n",
       "      <td>955.0</td>\n",
       "      <td>103.0</td>\n",
       "      <td>1174.0</td>\n",
       "      <td>92.0</td>\n",
       "      <td>1559.0</td>\n",
       "      <td>972.0</td>\n",
       "      <td>13.3</td>\n",
       "      <td>47.7</td>\n",
       "      <td>0.7255</td>\n",
       "      <td>NaN</td>\n",
       "      <td>NaN</td>\n",
       "    </tr>\n",
       "    <tr>\n",
       "      <th>2</th>\n",
       "      <td>10/03/2004</td>\n",
       "      <td>20:00:00</td>\n",
       "      <td>2.2</td>\n",
       "      <td>1402.0</td>\n",
       "      <td>88.0</td>\n",
       "      <td>9.0</td>\n",
       "      <td>939.0</td>\n",
       "      <td>131.0</td>\n",
       "      <td>1140.0</td>\n",
       "      <td>114.0</td>\n",
       "      <td>1555.0</td>\n",
       "      <td>1074.0</td>\n",
       "      <td>11.9</td>\n",
       "      <td>54.0</td>\n",
       "      <td>0.7502</td>\n",
       "      <td>NaN</td>\n",
       "      <td>NaN</td>\n",
       "    </tr>\n",
       "    <tr>\n",
       "      <th>3</th>\n",
       "      <td>10/03/2004</td>\n",
       "      <td>21:00:00</td>\n",
       "      <td>2.2</td>\n",
       "      <td>1376.0</td>\n",
       "      <td>80.0</td>\n",
       "      <td>9.2</td>\n",
       "      <td>948.0</td>\n",
       "      <td>172.0</td>\n",
       "      <td>1092.0</td>\n",
       "      <td>122.0</td>\n",
       "      <td>1584.0</td>\n",
       "      <td>1203.0</td>\n",
       "      <td>11.0</td>\n",
       "      <td>60.0</td>\n",
       "      <td>0.7867</td>\n",
       "      <td>NaN</td>\n",
       "      <td>NaN</td>\n",
       "    </tr>\n",
       "    <tr>\n",
       "      <th>4</th>\n",
       "      <td>10/03/2004</td>\n",
       "      <td>22:00:00</td>\n",
       "      <td>1.6</td>\n",
       "      <td>1272.0</td>\n",
       "      <td>51.0</td>\n",
       "      <td>6.5</td>\n",
       "      <td>836.0</td>\n",
       "      <td>131.0</td>\n",
       "      <td>1205.0</td>\n",
       "      <td>116.0</td>\n",
       "      <td>1490.0</td>\n",
       "      <td>1110.0</td>\n",
       "      <td>11.2</td>\n",
       "      <td>59.6</td>\n",
       "      <td>0.7888</td>\n",
       "      <td>NaN</td>\n",
       "      <td>NaN</td>\n",
       "    </tr>\n",
       "  </tbody>\n",
       "</table>\n",
       "</div>"
      ],
      "text/plain": [
       "         Date      Time  CO(GT)  PT08.S1(CO)  NMHC(GT)  C6H6(GT)  \\\n",
       "0  10/03/2004  18:00:00     2.6       1360.0     150.0      11.9   \n",
       "1  10/03/2004  19:00:00     2.0       1292.0     112.0       9.4   \n",
       "2  10/03/2004  20:00:00     2.2       1402.0      88.0       9.0   \n",
       "3  10/03/2004  21:00:00     2.2       1376.0      80.0       9.2   \n",
       "4  10/03/2004  22:00:00     1.6       1272.0      51.0       6.5   \n",
       "\n",
       "   PT08.S2(NMHC)  NOx(GT)  PT08.S3(NOx)  NO2(GT)  PT08.S4(NO2)  PT08.S5(O3)  \\\n",
       "0         1046.0    166.0        1056.0    113.0        1692.0       1268.0   \n",
       "1          955.0    103.0        1174.0     92.0        1559.0        972.0   \n",
       "2          939.0    131.0        1140.0    114.0        1555.0       1074.0   \n",
       "3          948.0    172.0        1092.0    122.0        1584.0       1203.0   \n",
       "4          836.0    131.0        1205.0    116.0        1490.0       1110.0   \n",
       "\n",
       "      T    RH      AH  Unnamed: 15  Unnamed: 16  \n",
       "0  13.6  48.9  0.7578          NaN          NaN  \n",
       "1  13.3  47.7  0.7255          NaN          NaN  \n",
       "2  11.9  54.0  0.7502          NaN          NaN  \n",
       "3  11.0  60.0  0.7867          NaN          NaN  \n",
       "4  11.2  59.6  0.7888          NaN          NaN  "
      ]
     },
     "execution_count": 4,
     "metadata": {},
     "output_type": "execute_result"
    }
   ],
   "source": [
    "df.head()"
   ]
  },
  {
   "cell_type": "code",
   "execution_count": 5,
   "metadata": {},
   "outputs": [],
   "source": [
    "df['Date']=df.Date+' '+df.Time"
   ]
  },
  {
   "cell_type": "code",
   "execution_count": 6,
   "metadata": {},
   "outputs": [],
   "source": [
    "df['Date']=pd.to_datetime(df[\"Date\"],format = \"%d/%m/%Y %H:%M:%S\")"
   ]
  },
  {
   "cell_type": "code",
   "execution_count": 7,
   "metadata": {},
   "outputs": [],
   "source": [
    "df.set_index(\"Date\",inplace= True)"
   ]
  },
  {
   "cell_type": "code",
   "execution_count": 8,
   "metadata": {},
   "outputs": [],
   "source": [
    "df.drop('Time', axis=1, inplace=True)\n",
    "df.drop('Unnamed: 15', axis=1, inplace=True)\n",
    "df.drop('Unnamed: 16', axis=1, inplace=True)"
   ]
  },
  {
   "cell_type": "code",
   "execution_count": 9,
   "metadata": {},
   "outputs": [
    {
     "data": {
      "text/html": [
       "<div>\n",
       "<style scoped>\n",
       "    .dataframe tbody tr th:only-of-type {\n",
       "        vertical-align: middle;\n",
       "    }\n",
       "\n",
       "    .dataframe tbody tr th {\n",
       "        vertical-align: top;\n",
       "    }\n",
       "\n",
       "    .dataframe thead th {\n",
       "        text-align: right;\n",
       "    }\n",
       "</style>\n",
       "<table border=\"1\" class=\"dataframe\">\n",
       "  <thead>\n",
       "    <tr style=\"text-align: right;\">\n",
       "      <th></th>\n",
       "      <th>CO(GT)</th>\n",
       "      <th>PT08.S1(CO)</th>\n",
       "      <th>NMHC(GT)</th>\n",
       "      <th>C6H6(GT)</th>\n",
       "      <th>PT08.S2(NMHC)</th>\n",
       "      <th>NOx(GT)</th>\n",
       "      <th>PT08.S3(NOx)</th>\n",
       "      <th>NO2(GT)</th>\n",
       "      <th>PT08.S4(NO2)</th>\n",
       "      <th>PT08.S5(O3)</th>\n",
       "      <th>T</th>\n",
       "      <th>RH</th>\n",
       "      <th>AH</th>\n",
       "    </tr>\n",
       "    <tr>\n",
       "      <th>Date</th>\n",
       "      <th></th>\n",
       "      <th></th>\n",
       "      <th></th>\n",
       "      <th></th>\n",
       "      <th></th>\n",
       "      <th></th>\n",
       "      <th></th>\n",
       "      <th></th>\n",
       "      <th></th>\n",
       "      <th></th>\n",
       "      <th></th>\n",
       "      <th></th>\n",
       "      <th></th>\n",
       "    </tr>\n",
       "  </thead>\n",
       "  <tbody>\n",
       "    <tr>\n",
       "      <th>2004-03-10 18:00:00</th>\n",
       "      <td>2.6</td>\n",
       "      <td>1360.0</td>\n",
       "      <td>150.0</td>\n",
       "      <td>11.9</td>\n",
       "      <td>1046.0</td>\n",
       "      <td>166.0</td>\n",
       "      <td>1056.0</td>\n",
       "      <td>113.0</td>\n",
       "      <td>1692.0</td>\n",
       "      <td>1268.0</td>\n",
       "      <td>13.6</td>\n",
       "      <td>48.9</td>\n",
       "      <td>0.7578</td>\n",
       "    </tr>\n",
       "    <tr>\n",
       "      <th>2004-03-10 19:00:00</th>\n",
       "      <td>2.0</td>\n",
       "      <td>1292.0</td>\n",
       "      <td>112.0</td>\n",
       "      <td>9.4</td>\n",
       "      <td>955.0</td>\n",
       "      <td>103.0</td>\n",
       "      <td>1174.0</td>\n",
       "      <td>92.0</td>\n",
       "      <td>1559.0</td>\n",
       "      <td>972.0</td>\n",
       "      <td>13.3</td>\n",
       "      <td>47.7</td>\n",
       "      <td>0.7255</td>\n",
       "    </tr>\n",
       "    <tr>\n",
       "      <th>2004-03-10 20:00:00</th>\n",
       "      <td>2.2</td>\n",
       "      <td>1402.0</td>\n",
       "      <td>88.0</td>\n",
       "      <td>9.0</td>\n",
       "      <td>939.0</td>\n",
       "      <td>131.0</td>\n",
       "      <td>1140.0</td>\n",
       "      <td>114.0</td>\n",
       "      <td>1555.0</td>\n",
       "      <td>1074.0</td>\n",
       "      <td>11.9</td>\n",
       "      <td>54.0</td>\n",
       "      <td>0.7502</td>\n",
       "    </tr>\n",
       "    <tr>\n",
       "      <th>2004-03-10 21:00:00</th>\n",
       "      <td>2.2</td>\n",
       "      <td>1376.0</td>\n",
       "      <td>80.0</td>\n",
       "      <td>9.2</td>\n",
       "      <td>948.0</td>\n",
       "      <td>172.0</td>\n",
       "      <td>1092.0</td>\n",
       "      <td>122.0</td>\n",
       "      <td>1584.0</td>\n",
       "      <td>1203.0</td>\n",
       "      <td>11.0</td>\n",
       "      <td>60.0</td>\n",
       "      <td>0.7867</td>\n",
       "    </tr>\n",
       "    <tr>\n",
       "      <th>2004-03-10 22:00:00</th>\n",
       "      <td>1.6</td>\n",
       "      <td>1272.0</td>\n",
       "      <td>51.0</td>\n",
       "      <td>6.5</td>\n",
       "      <td>836.0</td>\n",
       "      <td>131.0</td>\n",
       "      <td>1205.0</td>\n",
       "      <td>116.0</td>\n",
       "      <td>1490.0</td>\n",
       "      <td>1110.0</td>\n",
       "      <td>11.2</td>\n",
       "      <td>59.6</td>\n",
       "      <td>0.7888</td>\n",
       "    </tr>\n",
       "  </tbody>\n",
       "</table>\n",
       "</div>"
      ],
      "text/plain": [
       "                     CO(GT)  PT08.S1(CO)  NMHC(GT)  C6H6(GT)  PT08.S2(NMHC)  \\\n",
       "Date                                                                          \n",
       "2004-03-10 18:00:00     2.6       1360.0     150.0      11.9         1046.0   \n",
       "2004-03-10 19:00:00     2.0       1292.0     112.0       9.4          955.0   \n",
       "2004-03-10 20:00:00     2.2       1402.0      88.0       9.0          939.0   \n",
       "2004-03-10 21:00:00     2.2       1376.0      80.0       9.2          948.0   \n",
       "2004-03-10 22:00:00     1.6       1272.0      51.0       6.5          836.0   \n",
       "\n",
       "                     NOx(GT)  PT08.S3(NOx)  NO2(GT)  PT08.S4(NO2)  \\\n",
       "Date                                                                \n",
       "2004-03-10 18:00:00    166.0        1056.0    113.0        1692.0   \n",
       "2004-03-10 19:00:00    103.0        1174.0     92.0        1559.0   \n",
       "2004-03-10 20:00:00    131.0        1140.0    114.0        1555.0   \n",
       "2004-03-10 21:00:00    172.0        1092.0    122.0        1584.0   \n",
       "2004-03-10 22:00:00    131.0        1205.0    116.0        1490.0   \n",
       "\n",
       "                     PT08.S5(O3)     T    RH      AH  \n",
       "Date                                                  \n",
       "2004-03-10 18:00:00       1268.0  13.6  48.9  0.7578  \n",
       "2004-03-10 19:00:00        972.0  13.3  47.7  0.7255  \n",
       "2004-03-10 20:00:00       1074.0  11.9  54.0  0.7502  \n",
       "2004-03-10 21:00:00       1203.0  11.0  60.0  0.7867  \n",
       "2004-03-10 22:00:00       1110.0  11.2  59.6  0.7888  "
      ]
     },
     "execution_count": 9,
     "metadata": {},
     "output_type": "execute_result"
    }
   ],
   "source": [
    "df.head()"
   ]
  },
  {
   "cell_type": "code",
   "execution_count": 10,
   "metadata": {},
   "outputs": [
    {
     "name": "stdout",
     "output_type": "stream",
     "text": [
      "<class 'pandas.core.frame.DataFrame'>\n",
      "DatetimeIndex: 9471 entries, 2004-03-10 18:00:00 to NaT\n",
      "Data columns (total 13 columns):\n",
      " #   Column         Non-Null Count  Dtype  \n",
      "---  ------         --------------  -----  \n",
      " 0   CO(GT)         9357 non-null   float64\n",
      " 1   PT08.S1(CO)    9357 non-null   float64\n",
      " 2   NMHC(GT)       9357 non-null   float64\n",
      " 3   C6H6(GT)       9357 non-null   float64\n",
      " 4   PT08.S2(NMHC)  9357 non-null   float64\n",
      " 5   NOx(GT)        9357 non-null   float64\n",
      " 6   PT08.S3(NOx)   9357 non-null   float64\n",
      " 7   NO2(GT)        9357 non-null   float64\n",
      " 8   PT08.S4(NO2)   9357 non-null   float64\n",
      " 9   PT08.S5(O3)    9357 non-null   float64\n",
      " 10  T              9357 non-null   float64\n",
      " 11  RH             9357 non-null   float64\n",
      " 12  AH             9357 non-null   float64\n",
      "dtypes: float64(13)\n",
      "memory usage: 1.0 MB\n"
     ]
    }
   ],
   "source": [
    "df.info()"
   ]
  },
  {
   "cell_type": "code",
   "execution_count": 11,
   "metadata": {},
   "outputs": [
    {
     "data": {
      "text/plain": [
       "'\\n\\nQ-1\\n\"______\" was the maximum CO concentration recorded during May 2004.\\n\\n'"
      ]
     },
     "execution_count": 11,
     "metadata": {},
     "output_type": "execute_result"
    }
   ],
   "source": [
    "\"\"\"\n",
    "\n",
    "Q-1\n",
    "\"______\" was the maximum CO concentration recorded during May 2004.\n",
    "\n",
    "\"\"\""
   ]
  },
  {
   "cell_type": "code",
   "execution_count": 12,
   "metadata": {},
   "outputs": [
    {
     "data": {
      "text/plain": [
       "Date\n",
       "2004-04-30    7.3\n",
       "Freq: M, Name: CO(GT), dtype: float64"
      ]
     },
     "execution_count": 12,
     "metadata": {},
     "output_type": "execute_result"
    }
   ],
   "source": [
    "df[\"CO(GT)\"][\"2004-04\"].resample(\"M\").max()"
   ]
  },
  {
   "cell_type": "code",
   "execution_count": 13,
   "metadata": {},
   "outputs": [
    {
     "data": {
      "text/plain": [
       "'\\n\\nQ-2\\nLooking at the highest recordings of NOX, \"______\" hour of the day and \"______\" as the\\n day of the week was most common.\\n \\n'"
      ]
     },
     "execution_count": 13,
     "metadata": {},
     "output_type": "execute_result"
    }
   ],
   "source": [
    "\"\"\"\n",
    "\n",
    "Q-2\n",
    "Looking at the highest recordings of NOX, \"______\" hour of the day and \"______\" as the\n",
    " day of the week was most common.\n",
    " \n",
    "\"\"\""
   ]
  },
  {
   "cell_type": "code",
   "execution_count": 14,
   "metadata": {},
   "outputs": [
    {
     "data": {
      "text/plain": [
       "Tuesday      4\n",
       "Monday       3\n",
       "Wednesday    1\n",
       "Thursday     1\n",
       "Friday       1\n",
       "Name: Date, dtype: int64"
      ]
     },
     "execution_count": 14,
     "metadata": {},
     "output_type": "execute_result"
    }
   ],
   "source": [
    "df[\"NOx(GT)\"].nlargest(10,'all').index.day_name().value_counts()"
   ]
  },
  {
   "cell_type": "code",
   "execution_count": 15,
   "metadata": {},
   "outputs": [
    {
     "data": {
      "text/plain": [
       "18    5\n",
       "19    2\n",
       "20    2\n",
       "17    1\n",
       "Name: Date, dtype: int64"
      ]
     },
     "execution_count": 15,
     "metadata": {},
     "output_type": "execute_result"
    }
   ],
   "source": [
    "df[\"NOx(GT)\"].nlargest(10,'all').index.hour.value_counts()"
   ]
  },
  {
   "cell_type": "code",
   "execution_count": 16,
   "metadata": {},
   "outputs": [
    {
     "data": {
      "text/plain": [
       "'\\n\\nQ-3\\n\"______\" was the total NO2 recorded in January 2005.\\n\\n'"
      ]
     },
     "execution_count": 16,
     "metadata": {},
     "output_type": "execute_result"
    }
   ],
   "source": [
    "\"\"\"\n",
    "\n",
    "Q-3\n",
    "\"______\" was the total NO2 recorded in January 2005.\n",
    "\n",
    "\"\"\""
   ]
  },
  {
   "cell_type": "code",
   "execution_count": 17,
   "metadata": {},
   "outputs": [
    {
     "data": {
      "text/plain": [
       "Date\n",
       "2005-01-31    88895.0\n",
       "Freq: M, Name: NO2(GT), dtype: float64"
      ]
     },
     "execution_count": 17,
     "metadata": {},
     "output_type": "execute_result"
    }
   ],
   "source": [
    "df[\"NO2(GT)\"][\"2005-01\"].resample(\"M\").sum()"
   ]
  },
  {
   "cell_type": "code",
   "execution_count": 18,
   "metadata": {},
   "outputs": [
    {
     "data": {
      "text/plain": [
       "'\\n\\nQ-4\\nMonth \"______\" of the \"______\"  year had the lowest average absolute humidity.\\n\\n'"
      ]
     },
     "execution_count": 18,
     "metadata": {},
     "output_type": "execute_result"
    }
   ],
   "source": [
    "\"\"\"\n",
    "\n",
    "Q-4\n",
    "Month \"______\" of the \"______\"  year had the lowest average absolute humidity.\n",
    "\n",
    "\"\"\""
   ]
  },
  {
   "cell_type": "code",
   "execution_count": 19,
   "metadata": {},
   "outputs": [
    {
     "data": {
      "text/plain": [
       "-200.0"
      ]
     },
     "execution_count": 19,
     "metadata": {},
     "output_type": "execute_result"
    }
   ],
   "source": [
    "df[\"AH\"].resample(\"M\").min().min()"
   ]
  },
  {
   "cell_type": "code",
   "execution_count": 20,
   "metadata": {},
   "outputs": [
    {
     "data": {
      "text/plain": [
       "Date\n",
       "2004-03-31      0.4023\n",
       "2004-04-30   -200.0000\n",
       "2004-05-31   -200.0000\n",
       "2004-06-30   -200.0000\n",
       "2004-07-31   -200.0000\n",
       "2004-08-31   -200.0000\n",
       "2004-09-30   -200.0000\n",
       "2004-10-31   -200.0000\n",
       "2004-11-30      0.1988\n",
       "2004-12-31   -200.0000\n",
       "2005-01-31   -200.0000\n",
       "2005-02-28   -200.0000\n",
       "2005-03-31   -200.0000\n",
       "2005-04-30      0.3866\n",
       "Name: AH, dtype: float64"
      ]
     },
     "execution_count": 20,
     "metadata": {},
     "output_type": "execute_result"
    }
   ],
   "source": [
    "df[\"AH\"].resample(\"M\").min()"
   ]
  },
  {
   "cell_type": "code",
   "execution_count": 21,
   "metadata": {},
   "outputs": [
    {
     "data": {
      "text/plain": [
       "'\\n\\nQ-5\\nMonth \"______\" of the \"______\"  year had the highest variability in temperature (maximum - minimum)\\n\\n'"
      ]
     },
     "execution_count": 21,
     "metadata": {},
     "output_type": "execute_result"
    }
   ],
   "source": [
    "\"\"\"\n",
    "\n",
    "Q-5\n",
    "Month \"______\" of the \"______\"  year had the highest variability in temperature (maximum - minimum)\n",
    "\n",
    "\"\"\""
   ]
  },
  {
   "cell_type": "code",
   "execution_count": 22,
   "metadata": {},
   "outputs": [
    {
     "data": {
      "text/html": [
       "<div>\n",
       "<style scoped>\n",
       "    .dataframe tbody tr th:only-of-type {\n",
       "        vertical-align: middle;\n",
       "    }\n",
       "\n",
       "    .dataframe tbody tr th {\n",
       "        vertical-align: top;\n",
       "    }\n",
       "\n",
       "    .dataframe thead th {\n",
       "        text-align: right;\n",
       "    }\n",
       "</style>\n",
       "<table border=\"1\" class=\"dataframe\">\n",
       "  <thead>\n",
       "    <tr style=\"text-align: right;\">\n",
       "      <th></th>\n",
       "      <th>T</th>\n",
       "    </tr>\n",
       "    <tr>\n",
       "      <th>Date</th>\n",
       "      <th></th>\n",
       "    </tr>\n",
       "  </thead>\n",
       "  <tbody>\n",
       "    <tr>\n",
       "      <th>2004-03-31</th>\n",
       "      <td>29.3</td>\n",
       "    </tr>\n",
       "    <tr>\n",
       "      <th>2004-04-30</th>\n",
       "      <td>31.3</td>\n",
       "    </tr>\n",
       "    <tr>\n",
       "      <th>2004-05-31</th>\n",
       "      <td>32.8</td>\n",
       "    </tr>\n",
       "    <tr>\n",
       "      <th>2004-06-30</th>\n",
       "      <td>42.2</td>\n",
       "    </tr>\n",
       "    <tr>\n",
       "      <th>2004-07-31</th>\n",
       "      <td>44.6</td>\n",
       "    </tr>\n",
       "    <tr>\n",
       "      <th>2004-08-31</th>\n",
       "      <td>40.5</td>\n",
       "    </tr>\n",
       "    <tr>\n",
       "      <th>2004-09-30</th>\n",
       "      <td>40.7</td>\n",
       "    </tr>\n",
       "    <tr>\n",
       "      <th>2004-10-31</th>\n",
       "      <td>30.8</td>\n",
       "    </tr>\n",
       "    <tr>\n",
       "      <th>2004-11-30</th>\n",
       "      <td>26.8</td>\n",
       "    </tr>\n",
       "    <tr>\n",
       "      <th>2004-12-31</th>\n",
       "      <td>20.3</td>\n",
       "    </tr>\n",
       "    <tr>\n",
       "      <th>2005-01-31</th>\n",
       "      <td>16.9</td>\n",
       "    </tr>\n",
       "    <tr>\n",
       "      <th>2005-02-28</th>\n",
       "      <td>19.9</td>\n",
       "    </tr>\n",
       "    <tr>\n",
       "      <th>2005-03-31</th>\n",
       "      <td>28.8</td>\n",
       "    </tr>\n",
       "    <tr>\n",
       "      <th>2005-04-30</th>\n",
       "      <td>30.0</td>\n",
       "    </tr>\n",
       "  </tbody>\n",
       "</table>\n",
       "</div>"
      ],
      "text/plain": [
       "               T\n",
       "Date            \n",
       "2004-03-31  29.3\n",
       "2004-04-30  31.3\n",
       "2004-05-31  32.8\n",
       "2004-06-30  42.2\n",
       "2004-07-31  44.6\n",
       "2004-08-31  40.5\n",
       "2004-09-30  40.7\n",
       "2004-10-31  30.8\n",
       "2004-11-30  26.8\n",
       "2004-12-31  20.3\n",
       "2005-01-31  16.9\n",
       "2005-02-28  19.9\n",
       "2005-03-31  28.8\n",
       "2005-04-30  30.0"
      ]
     },
     "execution_count": 22,
     "metadata": {},
     "output_type": "execute_result"
    }
   ],
   "source": [
    "df.resample(\"M\").agg({\"T\": \"max\"})"
   ]
  },
  {
   "cell_type": "code",
   "execution_count": 23,
   "metadata": {},
   "outputs": [
    {
     "data": {
      "text/plain": [
       "Date\n",
       "2004-04-01 14:00:00   -200.0\n",
       "2004-04-01 15:00:00   -200.0\n",
       "2004-04-01 16:00:00   -200.0\n",
       "2004-04-08 23:00:00   -200.0\n",
       "2004-04-09 00:00:00   -200.0\n",
       "                       ...  \n",
       "2005-02-11 17:00:00   -200.0\n",
       "2005-02-11 18:00:00   -200.0\n",
       "2005-02-11 19:00:00   -200.0\n",
       "2005-02-11 20:00:00   -200.0\n",
       "2005-03-11 11:00:00   -200.0\n",
       "Name: T, Length: 366, dtype: float64"
      ]
     },
     "execution_count": 23,
     "metadata": {},
     "output_type": "execute_result"
    }
   ],
   "source": [
    "df[\"T\"].nsmallest(10,\"all\")"
   ]
  },
  {
   "cell_type": "code",
   "execution_count": 24,
   "metadata": {},
   "outputs": [
    {
     "data": {
      "text/plain": [
       "Date\n",
       "2004-07-22 16:00:00    44.6\n",
       "2004-07-22 15:00:00    44.3\n",
       "2004-07-22 17:00:00    43.4\n",
       "2004-07-23 15:00:00    43.1\n",
       "2004-07-20 15:00:00    42.8\n",
       "2004-07-22 14:00:00    42.8\n",
       "2004-07-23 16:00:00    42.8\n",
       "2004-07-21 16:00:00    42.7\n",
       "2004-07-07 13:00:00    42.6\n",
       "2004-07-07 14:00:00    42.5\n",
       "Name: T, dtype: float64"
      ]
     },
     "execution_count": 24,
     "metadata": {},
     "output_type": "execute_result"
    }
   ],
   "source": [
    "df[\"T\"].nlargest(10,'first')"
   ]
  },
  {
   "cell_type": "code",
   "execution_count": 25,
   "metadata": {},
   "outputs": [
    {
     "data": {
      "text/html": [
       "<div>\n",
       "<style scoped>\n",
       "    .dataframe tbody tr th:only-of-type {\n",
       "        vertical-align: middle;\n",
       "    }\n",
       "\n",
       "    .dataframe tbody tr th {\n",
       "        vertical-align: top;\n",
       "    }\n",
       "\n",
       "    .dataframe thead th {\n",
       "        text-align: right;\n",
       "    }\n",
       "</style>\n",
       "<table border=\"1\" class=\"dataframe\">\n",
       "  <thead>\n",
       "    <tr style=\"text-align: right;\">\n",
       "      <th></th>\n",
       "      <th>T</th>\n",
       "    </tr>\n",
       "    <tr>\n",
       "      <th>Date</th>\n",
       "      <th></th>\n",
       "    </tr>\n",
       "  </thead>\n",
       "  <tbody>\n",
       "    <tr>\n",
       "      <th>2004-03-31</th>\n",
       "      <td>6.1</td>\n",
       "    </tr>\n",
       "    <tr>\n",
       "      <th>2004-04-30</th>\n",
       "      <td>-200.0</td>\n",
       "    </tr>\n",
       "    <tr>\n",
       "      <th>2004-05-31</th>\n",
       "      <td>-200.0</td>\n",
       "    </tr>\n",
       "    <tr>\n",
       "      <th>2004-06-30</th>\n",
       "      <td>-200.0</td>\n",
       "    </tr>\n",
       "    <tr>\n",
       "      <th>2004-07-31</th>\n",
       "      <td>-200.0</td>\n",
       "    </tr>\n",
       "    <tr>\n",
       "      <th>2004-08-31</th>\n",
       "      <td>-200.0</td>\n",
       "    </tr>\n",
       "    <tr>\n",
       "      <th>2004-09-30</th>\n",
       "      <td>-200.0</td>\n",
       "    </tr>\n",
       "    <tr>\n",
       "      <th>2004-10-31</th>\n",
       "      <td>-200.0</td>\n",
       "    </tr>\n",
       "    <tr>\n",
       "      <th>2004-11-30</th>\n",
       "      <td>1.3</td>\n",
       "    </tr>\n",
       "    <tr>\n",
       "      <th>2004-12-31</th>\n",
       "      <td>-200.0</td>\n",
       "    </tr>\n",
       "    <tr>\n",
       "      <th>2005-01-31</th>\n",
       "      <td>-200.0</td>\n",
       "    </tr>\n",
       "    <tr>\n",
       "      <th>2005-02-28</th>\n",
       "      <td>-200.0</td>\n",
       "    </tr>\n",
       "    <tr>\n",
       "      <th>2005-03-31</th>\n",
       "      <td>-200.0</td>\n",
       "    </tr>\n",
       "    <tr>\n",
       "      <th>2005-04-30</th>\n",
       "      <td>8.9</td>\n",
       "    </tr>\n",
       "  </tbody>\n",
       "</table>\n",
       "</div>"
      ],
      "text/plain": [
       "                T\n",
       "Date             \n",
       "2004-03-31    6.1\n",
       "2004-04-30 -200.0\n",
       "2004-05-31 -200.0\n",
       "2004-06-30 -200.0\n",
       "2004-07-31 -200.0\n",
       "2004-08-31 -200.0\n",
       "2004-09-30 -200.0\n",
       "2004-10-31 -200.0\n",
       "2004-11-30    1.3\n",
       "2004-12-31 -200.0\n",
       "2005-01-31 -200.0\n",
       "2005-02-28 -200.0\n",
       "2005-03-31 -200.0\n",
       "2005-04-30    8.9"
      ]
     },
     "execution_count": 25,
     "metadata": {},
     "output_type": "execute_result"
    }
   ],
   "source": [
    "df.resample(\"M\").agg({\"T\": \"min\" })"
   ]
  },
  {
   "cell_type": "code",
   "execution_count": 26,
   "metadata": {},
   "outputs": [
    {
     "data": {
      "text/plain": [
       "'\\n\\nQ-6\\nWhich two columns have the most values missing? Seperate your answer with a comma.\\nColumns:\"______\" ,\"______\" \\n\\n'"
      ]
     },
     "execution_count": 26,
     "metadata": {},
     "output_type": "execute_result"
    }
   ],
   "source": [
    "\"\"\"\n",
    "\n",
    "Q-6\n",
    "Which two columns have the most values missing? Seperate your answer with a comma.\n",
    "Columns:\"______\" ,\"______\" \n",
    "\n",
    "\"\"\""
   ]
  },
  {
   "cell_type": "code",
   "execution_count": 27,
   "metadata": {},
   "outputs": [
    {
     "data": {
      "text/plain": [
       "CO(GT)           114\n",
       "PT08.S1(CO)      114\n",
       "NMHC(GT)         114\n",
       "C6H6(GT)         114\n",
       "PT08.S2(NMHC)    114\n",
       "NOx(GT)          114\n",
       "PT08.S3(NOx)     114\n",
       "NO2(GT)          114\n",
       "PT08.S4(NO2)     114\n",
       "PT08.S5(O3)      114\n",
       "T                114\n",
       "RH               114\n",
       "AH               114\n",
       "dtype: int64"
      ]
     },
     "execution_count": 27,
     "metadata": {},
     "output_type": "execute_result"
    }
   ],
   "source": [
    "df.isnull().sum(axis=0)"
   ]
  },
  {
   "cell_type": "code",
   "execution_count": 28,
   "metadata": {},
   "outputs": [
    {
     "data": {
      "text/plain": [
       "NMHC(GT)         8557\n",
       "CO(GT)           1797\n",
       "NO2(GT)          1756\n",
       "NOx(GT)          1753\n",
       "PT08.S1(CO)       480\n",
       "C6H6(GT)          480\n",
       "PT08.S2(NMHC)     480\n",
       "PT08.S3(NOx)      480\n",
       "PT08.S4(NO2)      480\n",
       "PT08.S5(O3)       480\n",
       "T                 480\n",
       "RH                480\n",
       "AH                480\n",
       "dtype: int64"
      ]
     },
     "execution_count": 28,
     "metadata": {},
     "output_type": "execute_result"
    }
   ],
   "source": [
    "df.replace(to_replace = -200, value= np.NaN, inplace= True)\n",
    "df.isna().sum().sort_values(ascending=False)"
   ]
  },
  {
   "cell_type": "code",
   "execution_count": 29,
   "metadata": {},
   "outputs": [
    {
     "name": "stdout",
     "output_type": "stream",
     "text": [
      "<class 'pandas.core.frame.DataFrame'>\n",
      "DatetimeIndex: 9471 entries, 2004-03-10 18:00:00 to NaT\n",
      "Data columns (total 13 columns):\n",
      " #   Column         Non-Null Count  Dtype  \n",
      "---  ------         --------------  -----  \n",
      " 0   CO(GT)         7674 non-null   float64\n",
      " 1   PT08.S1(CO)    8991 non-null   float64\n",
      " 2   NMHC(GT)       914 non-null    float64\n",
      " 3   C6H6(GT)       8991 non-null   float64\n",
      " 4   PT08.S2(NMHC)  8991 non-null   float64\n",
      " 5   NOx(GT)        7718 non-null   float64\n",
      " 6   PT08.S3(NOx)   8991 non-null   float64\n",
      " 7   NO2(GT)        7715 non-null   float64\n",
      " 8   PT08.S4(NO2)   8991 non-null   float64\n",
      " 9   PT08.S5(O3)    8991 non-null   float64\n",
      " 10  T              8991 non-null   float64\n",
      " 11  RH             8991 non-null   float64\n",
      " 12  AH             8991 non-null   float64\n",
      "dtypes: float64(13)\n",
      "memory usage: 1.0 MB\n"
     ]
    }
   ],
   "source": [
    "df.info()"
   ]
  },
  {
   "cell_type": "code",
   "execution_count": 30,
   "metadata": {},
   "outputs": [
    {
     "data": {
      "text/plain": [
       "'\\n\\nQ-7\\n\\nIn this section you will build a linear model to predict CO concentration on hour ahead and compare\\nit to a simple benchmark.\\n\\nConstruct a new column called \"target\" which is the CO concentration lagged forward by one time step.\\n\\nCalculate the Pearson correlation matrix for all variables.\\nWhich 5 variables are most correlated with \"target\" (excluding the CO concentration itself)\\nfrom highest to lowest?\\n\\n\"______\" \\n\\n\"______\" \\n\\n\"______\" \\n\\n\"______\" \\n\\n\"______\" \\n\\n\\n\\n'"
      ]
     },
     "execution_count": 30,
     "metadata": {},
     "output_type": "execute_result"
    }
   ],
   "source": [
    "\"\"\"\n",
    "\n",
    "Q-7\n",
    "\n",
    "In this section you will build a linear model to predict CO concentration on hour ahead and compare\n",
    "it to a simple benchmark.\n",
    "\n",
    "Construct a new column called \"target\" which is the CO concentration lagged forward by one time step.\n",
    "\n",
    "Calculate the Pearson correlation matrix for all variables.\n",
    "Which 5 variables are most correlated with \"target\" (excluding the CO concentration itself)\n",
    "from highest to lowest?\n",
    "\n",
    "\"______\" \n",
    "\n",
    "\"______\" \n",
    "\n",
    "\"______\" \n",
    "\n",
    "\"______\" \n",
    "\n",
    "\"______\" \n",
    "\n",
    "\n",
    "\n",
    "\"\"\""
   ]
  },
  {
   "cell_type": "code",
   "execution_count": 31,
   "metadata": {},
   "outputs": [],
   "source": [
    "df[\"Target\"]= df[\"CO(GT)\"].shift(1)"
   ]
  },
  {
   "cell_type": "code",
   "execution_count": 32,
   "metadata": {},
   "outputs": [
    {
     "data": {
      "text/html": [
       "<div>\n",
       "<style scoped>\n",
       "    .dataframe tbody tr th:only-of-type {\n",
       "        vertical-align: middle;\n",
       "    }\n",
       "\n",
       "    .dataframe tbody tr th {\n",
       "        vertical-align: top;\n",
       "    }\n",
       "\n",
       "    .dataframe thead th {\n",
       "        text-align: right;\n",
       "    }\n",
       "</style>\n",
       "<table border=\"1\" class=\"dataframe\">\n",
       "  <thead>\n",
       "    <tr style=\"text-align: right;\">\n",
       "      <th></th>\n",
       "      <th>CO(GT)</th>\n",
       "      <th>PT08.S1(CO)</th>\n",
       "      <th>NMHC(GT)</th>\n",
       "      <th>C6H6(GT)</th>\n",
       "      <th>PT08.S2(NMHC)</th>\n",
       "      <th>NOx(GT)</th>\n",
       "      <th>PT08.S3(NOx)</th>\n",
       "      <th>NO2(GT)</th>\n",
       "      <th>PT08.S4(NO2)</th>\n",
       "      <th>PT08.S5(O3)</th>\n",
       "      <th>T</th>\n",
       "      <th>RH</th>\n",
       "      <th>AH</th>\n",
       "      <th>Target</th>\n",
       "    </tr>\n",
       "    <tr>\n",
       "      <th>Date</th>\n",
       "      <th></th>\n",
       "      <th></th>\n",
       "      <th></th>\n",
       "      <th></th>\n",
       "      <th></th>\n",
       "      <th></th>\n",
       "      <th></th>\n",
       "      <th></th>\n",
       "      <th></th>\n",
       "      <th></th>\n",
       "      <th></th>\n",
       "      <th></th>\n",
       "      <th></th>\n",
       "      <th></th>\n",
       "    </tr>\n",
       "  </thead>\n",
       "  <tbody>\n",
       "    <tr>\n",
       "      <th>2004-03-10 18:00:00</th>\n",
       "      <td>2.6</td>\n",
       "      <td>1360.0</td>\n",
       "      <td>150.0</td>\n",
       "      <td>11.9</td>\n",
       "      <td>1046.0</td>\n",
       "      <td>166.0</td>\n",
       "      <td>1056.0</td>\n",
       "      <td>113.0</td>\n",
       "      <td>1692.0</td>\n",
       "      <td>1268.0</td>\n",
       "      <td>13.6</td>\n",
       "      <td>48.9</td>\n",
       "      <td>0.7578</td>\n",
       "      <td>NaN</td>\n",
       "    </tr>\n",
       "    <tr>\n",
       "      <th>2004-03-10 19:00:00</th>\n",
       "      <td>2.0</td>\n",
       "      <td>1292.0</td>\n",
       "      <td>112.0</td>\n",
       "      <td>9.4</td>\n",
       "      <td>955.0</td>\n",
       "      <td>103.0</td>\n",
       "      <td>1174.0</td>\n",
       "      <td>92.0</td>\n",
       "      <td>1559.0</td>\n",
       "      <td>972.0</td>\n",
       "      <td>13.3</td>\n",
       "      <td>47.7</td>\n",
       "      <td>0.7255</td>\n",
       "      <td>2.6</td>\n",
       "    </tr>\n",
       "    <tr>\n",
       "      <th>2004-03-10 20:00:00</th>\n",
       "      <td>2.2</td>\n",
       "      <td>1402.0</td>\n",
       "      <td>88.0</td>\n",
       "      <td>9.0</td>\n",
       "      <td>939.0</td>\n",
       "      <td>131.0</td>\n",
       "      <td>1140.0</td>\n",
       "      <td>114.0</td>\n",
       "      <td>1555.0</td>\n",
       "      <td>1074.0</td>\n",
       "      <td>11.9</td>\n",
       "      <td>54.0</td>\n",
       "      <td>0.7502</td>\n",
       "      <td>2.0</td>\n",
       "    </tr>\n",
       "    <tr>\n",
       "      <th>2004-03-10 21:00:00</th>\n",
       "      <td>2.2</td>\n",
       "      <td>1376.0</td>\n",
       "      <td>80.0</td>\n",
       "      <td>9.2</td>\n",
       "      <td>948.0</td>\n",
       "      <td>172.0</td>\n",
       "      <td>1092.0</td>\n",
       "      <td>122.0</td>\n",
       "      <td>1584.0</td>\n",
       "      <td>1203.0</td>\n",
       "      <td>11.0</td>\n",
       "      <td>60.0</td>\n",
       "      <td>0.7867</td>\n",
       "      <td>2.2</td>\n",
       "    </tr>\n",
       "    <tr>\n",
       "      <th>2004-03-10 22:00:00</th>\n",
       "      <td>1.6</td>\n",
       "      <td>1272.0</td>\n",
       "      <td>51.0</td>\n",
       "      <td>6.5</td>\n",
       "      <td>836.0</td>\n",
       "      <td>131.0</td>\n",
       "      <td>1205.0</td>\n",
       "      <td>116.0</td>\n",
       "      <td>1490.0</td>\n",
       "      <td>1110.0</td>\n",
       "      <td>11.2</td>\n",
       "      <td>59.6</td>\n",
       "      <td>0.7888</td>\n",
       "      <td>2.2</td>\n",
       "    </tr>\n",
       "  </tbody>\n",
       "</table>\n",
       "</div>"
      ],
      "text/plain": [
       "                     CO(GT)  PT08.S1(CO)  NMHC(GT)  C6H6(GT)  PT08.S2(NMHC)  \\\n",
       "Date                                                                          \n",
       "2004-03-10 18:00:00     2.6       1360.0     150.0      11.9         1046.0   \n",
       "2004-03-10 19:00:00     2.0       1292.0     112.0       9.4          955.0   \n",
       "2004-03-10 20:00:00     2.2       1402.0      88.0       9.0          939.0   \n",
       "2004-03-10 21:00:00     2.2       1376.0      80.0       9.2          948.0   \n",
       "2004-03-10 22:00:00     1.6       1272.0      51.0       6.5          836.0   \n",
       "\n",
       "                     NOx(GT)  PT08.S3(NOx)  NO2(GT)  PT08.S4(NO2)  \\\n",
       "Date                                                                \n",
       "2004-03-10 18:00:00    166.0        1056.0    113.0        1692.0   \n",
       "2004-03-10 19:00:00    103.0        1174.0     92.0        1559.0   \n",
       "2004-03-10 20:00:00    131.0        1140.0    114.0        1555.0   \n",
       "2004-03-10 21:00:00    172.0        1092.0    122.0        1584.0   \n",
       "2004-03-10 22:00:00    131.0        1205.0    116.0        1490.0   \n",
       "\n",
       "                     PT08.S5(O3)     T    RH      AH  Target  \n",
       "Date                                                          \n",
       "2004-03-10 18:00:00       1268.0  13.6  48.9  0.7578     NaN  \n",
       "2004-03-10 19:00:00        972.0  13.3  47.7  0.7255     2.6  \n",
       "2004-03-10 20:00:00       1074.0  11.9  54.0  0.7502     2.0  \n",
       "2004-03-10 21:00:00       1203.0  11.0  60.0  0.7867     2.2  \n",
       "2004-03-10 22:00:00       1110.0  11.2  59.6  0.7888     2.2  "
      ]
     },
     "execution_count": 32,
     "metadata": {},
     "output_type": "execute_result"
    }
   ],
   "source": [
    "df.head()"
   ]
  },
  {
   "cell_type": "code",
   "execution_count": 33,
   "metadata": {},
   "outputs": [],
   "source": [
    "#df.corr(method=\"pearson\") = = = = = df.corr()\n",
    "\n",
    "#df.corr(method=\"kendall\")\n",
    "#df.corr(method=\"spearman\")"
   ]
  },
  {
   "cell_type": "code",
   "execution_count": 34,
   "metadata": {},
   "outputs": [
    {
     "data": {
      "text/html": [
       "<div>\n",
       "<style scoped>\n",
       "    .dataframe tbody tr th:only-of-type {\n",
       "        vertical-align: middle;\n",
       "    }\n",
       "\n",
       "    .dataframe tbody tr th {\n",
       "        vertical-align: top;\n",
       "    }\n",
       "\n",
       "    .dataframe thead th {\n",
       "        text-align: right;\n",
       "    }\n",
       "</style>\n",
       "<table border=\"1\" class=\"dataframe\">\n",
       "  <thead>\n",
       "    <tr style=\"text-align: right;\">\n",
       "      <th></th>\n",
       "      <th>CO(GT)</th>\n",
       "      <th>PT08.S1(CO)</th>\n",
       "      <th>NMHC(GT)</th>\n",
       "      <th>C6H6(GT)</th>\n",
       "      <th>PT08.S2(NMHC)</th>\n",
       "      <th>NOx(GT)</th>\n",
       "      <th>PT08.S3(NOx)</th>\n",
       "      <th>NO2(GT)</th>\n",
       "      <th>PT08.S4(NO2)</th>\n",
       "      <th>PT08.S5(O3)</th>\n",
       "      <th>T</th>\n",
       "      <th>RH</th>\n",
       "      <th>AH</th>\n",
       "      <th>Target</th>\n",
       "    </tr>\n",
       "  </thead>\n",
       "  <tbody>\n",
       "    <tr>\n",
       "      <th>Target</th>\n",
       "      <td>0.837037</td>\n",
       "      <td>0.730806</td>\n",
       "      <td>0.702962</td>\n",
       "      <td>0.748222</td>\n",
       "      <td>0.752732</td>\n",
       "      <td>0.676757</td>\n",
       "      <td>-0.608054</td>\n",
       "      <td>0.608146</td>\n",
       "      <td>0.497469</td>\n",
       "      <td>0.756721</td>\n",
       "      <td>0.028878</td>\n",
       "      <td>0.040216</td>\n",
       "      <td>0.054754</td>\n",
       "      <td>1.000000</td>\n",
       "    </tr>\n",
       "    <tr>\n",
       "      <th>CO(GT)</th>\n",
       "      <td>1.000000</td>\n",
       "      <td>0.879288</td>\n",
       "      <td>0.889734</td>\n",
       "      <td>0.931078</td>\n",
       "      <td>0.915514</td>\n",
       "      <td>0.795028</td>\n",
       "      <td>-0.703446</td>\n",
       "      <td>0.683343</td>\n",
       "      <td>0.630703</td>\n",
       "      <td>0.854182</td>\n",
       "      <td>0.022109</td>\n",
       "      <td>0.048890</td>\n",
       "      <td>0.048556</td>\n",
       "      <td>0.837037</td>\n",
       "    </tr>\n",
       "    <tr>\n",
       "      <th>PT08.S5(O3)</th>\n",
       "      <td>0.854182</td>\n",
       "      <td>0.899324</td>\n",
       "      <td>0.766723</td>\n",
       "      <td>0.865689</td>\n",
       "      <td>0.880578</td>\n",
       "      <td>0.787046</td>\n",
       "      <td>-0.796569</td>\n",
       "      <td>0.708128</td>\n",
       "      <td>0.591144</td>\n",
       "      <td>1.000000</td>\n",
       "      <td>-0.027172</td>\n",
       "      <td>0.124956</td>\n",
       "      <td>0.070751</td>\n",
       "      <td>0.756721</td>\n",
       "    </tr>\n",
       "    <tr>\n",
       "      <th>PT08.S2(NMHC)</th>\n",
       "      <td>0.915514</td>\n",
       "      <td>0.892964</td>\n",
       "      <td>0.877696</td>\n",
       "      <td>0.981950</td>\n",
       "      <td>1.000000</td>\n",
       "      <td>0.704435</td>\n",
       "      <td>-0.796703</td>\n",
       "      <td>0.646245</td>\n",
       "      <td>0.777254</td>\n",
       "      <td>0.880578</td>\n",
       "      <td>0.241373</td>\n",
       "      <td>-0.090380</td>\n",
       "      <td>0.186933</td>\n",
       "      <td>0.752732</td>\n",
       "    </tr>\n",
       "    <tr>\n",
       "      <th>C6H6(GT)</th>\n",
       "      <td>0.931078</td>\n",
       "      <td>0.883795</td>\n",
       "      <td>0.902559</td>\n",
       "      <td>1.000000</td>\n",
       "      <td>0.981950</td>\n",
       "      <td>0.718839</td>\n",
       "      <td>-0.735744</td>\n",
       "      <td>0.614474</td>\n",
       "      <td>0.765731</td>\n",
       "      <td>0.865689</td>\n",
       "      <td>0.198956</td>\n",
       "      <td>-0.061681</td>\n",
       "      <td>0.167972</td>\n",
       "      <td>0.748222</td>\n",
       "    </tr>\n",
       "    <tr>\n",
       "      <th>PT08.S1(CO)</th>\n",
       "      <td>0.879288</td>\n",
       "      <td>1.000000</td>\n",
       "      <td>0.790670</td>\n",
       "      <td>0.883795</td>\n",
       "      <td>0.892964</td>\n",
       "      <td>0.713654</td>\n",
       "      <td>-0.771938</td>\n",
       "      <td>0.641529</td>\n",
       "      <td>0.682881</td>\n",
       "      <td>0.899324</td>\n",
       "      <td>0.048627</td>\n",
       "      <td>0.114606</td>\n",
       "      <td>0.135324</td>\n",
       "      <td>0.730806</td>\n",
       "    </tr>\n",
       "    <tr>\n",
       "      <th>NMHC(GT)</th>\n",
       "      <td>0.889734</td>\n",
       "      <td>0.790670</td>\n",
       "      <td>1.000000</td>\n",
       "      <td>0.902559</td>\n",
       "      <td>0.877696</td>\n",
       "      <td>0.812685</td>\n",
       "      <td>-0.771135</td>\n",
       "      <td>0.731193</td>\n",
       "      <td>0.853267</td>\n",
       "      <td>0.766723</td>\n",
       "      <td>0.391587</td>\n",
       "      <td>-0.191454</td>\n",
       "      <td>0.269738</td>\n",
       "      <td>0.702962</td>\n",
       "    </tr>\n",
       "    <tr>\n",
       "      <th>NOx(GT)</th>\n",
       "      <td>0.795028</td>\n",
       "      <td>0.713654</td>\n",
       "      <td>0.812685</td>\n",
       "      <td>0.718839</td>\n",
       "      <td>0.704435</td>\n",
       "      <td>1.000000</td>\n",
       "      <td>-0.655707</td>\n",
       "      <td>0.763111</td>\n",
       "      <td>0.233731</td>\n",
       "      <td>0.787046</td>\n",
       "      <td>-0.269683</td>\n",
       "      <td>0.221032</td>\n",
       "      <td>-0.149323</td>\n",
       "      <td>0.676757</td>\n",
       "    </tr>\n",
       "    <tr>\n",
       "      <th>NO2(GT)</th>\n",
       "      <td>0.683343</td>\n",
       "      <td>0.641529</td>\n",
       "      <td>0.731193</td>\n",
       "      <td>0.614474</td>\n",
       "      <td>0.646245</td>\n",
       "      <td>0.763111</td>\n",
       "      <td>-0.652083</td>\n",
       "      <td>1.000000</td>\n",
       "      <td>0.157360</td>\n",
       "      <td>0.708128</td>\n",
       "      <td>-0.186533</td>\n",
       "      <td>-0.091759</td>\n",
       "      <td>-0.335022</td>\n",
       "      <td>0.608146</td>\n",
       "    </tr>\n",
       "    <tr>\n",
       "      <th>PT08.S4(NO2)</th>\n",
       "      <td>0.630703</td>\n",
       "      <td>0.682881</td>\n",
       "      <td>0.853267</td>\n",
       "      <td>0.765731</td>\n",
       "      <td>0.777254</td>\n",
       "      <td>0.233731</td>\n",
       "      <td>-0.538468</td>\n",
       "      <td>0.157360</td>\n",
       "      <td>1.000000</td>\n",
       "      <td>0.591144</td>\n",
       "      <td>0.561270</td>\n",
       "      <td>-0.032188</td>\n",
       "      <td>0.629641</td>\n",
       "      <td>0.497469</td>\n",
       "    </tr>\n",
       "    <tr>\n",
       "      <th>AH</th>\n",
       "      <td>0.048556</td>\n",
       "      <td>0.135324</td>\n",
       "      <td>0.269738</td>\n",
       "      <td>0.167972</td>\n",
       "      <td>0.186933</td>\n",
       "      <td>-0.149323</td>\n",
       "      <td>-0.232017</td>\n",
       "      <td>-0.335022</td>\n",
       "      <td>0.629641</td>\n",
       "      <td>0.070751</td>\n",
       "      <td>0.656397</td>\n",
       "      <td>0.167971</td>\n",
       "      <td>1.000000</td>\n",
       "      <td>0.054754</td>\n",
       "    </tr>\n",
       "    <tr>\n",
       "      <th>RH</th>\n",
       "      <td>0.048890</td>\n",
       "      <td>0.114606</td>\n",
       "      <td>-0.191454</td>\n",
       "      <td>-0.061681</td>\n",
       "      <td>-0.090380</td>\n",
       "      <td>0.221032</td>\n",
       "      <td>-0.056740</td>\n",
       "      <td>-0.091759</td>\n",
       "      <td>-0.032188</td>\n",
       "      <td>0.124956</td>\n",
       "      <td>-0.578621</td>\n",
       "      <td>1.000000</td>\n",
       "      <td>0.167971</td>\n",
       "      <td>0.040216</td>\n",
       "    </tr>\n",
       "    <tr>\n",
       "      <th>T</th>\n",
       "      <td>0.022109</td>\n",
       "      <td>0.048627</td>\n",
       "      <td>0.391587</td>\n",
       "      <td>0.198956</td>\n",
       "      <td>0.241373</td>\n",
       "      <td>-0.269683</td>\n",
       "      <td>-0.145112</td>\n",
       "      <td>-0.186533</td>\n",
       "      <td>0.561270</td>\n",
       "      <td>-0.027172</td>\n",
       "      <td>1.000000</td>\n",
       "      <td>-0.578621</td>\n",
       "      <td>0.656397</td>\n",
       "      <td>0.028878</td>\n",
       "    </tr>\n",
       "    <tr>\n",
       "      <th>PT08.S3(NOx)</th>\n",
       "      <td>-0.703446</td>\n",
       "      <td>-0.771938</td>\n",
       "      <td>-0.771135</td>\n",
       "      <td>-0.735744</td>\n",
       "      <td>-0.796703</td>\n",
       "      <td>-0.655707</td>\n",
       "      <td>1.000000</td>\n",
       "      <td>-0.652083</td>\n",
       "      <td>-0.538468</td>\n",
       "      <td>-0.796569</td>\n",
       "      <td>-0.145112</td>\n",
       "      <td>-0.056740</td>\n",
       "      <td>-0.232017</td>\n",
       "      <td>-0.608054</td>\n",
       "    </tr>\n",
       "  </tbody>\n",
       "</table>\n",
       "</div>"
      ],
      "text/plain": [
       "                 CO(GT)  PT08.S1(CO)  NMHC(GT)  C6H6(GT)  PT08.S2(NMHC)  \\\n",
       "Target         0.837037     0.730806  0.702962  0.748222       0.752732   \n",
       "CO(GT)         1.000000     0.879288  0.889734  0.931078       0.915514   \n",
       "PT08.S5(O3)    0.854182     0.899324  0.766723  0.865689       0.880578   \n",
       "PT08.S2(NMHC)  0.915514     0.892964  0.877696  0.981950       1.000000   \n",
       "C6H6(GT)       0.931078     0.883795  0.902559  1.000000       0.981950   \n",
       "PT08.S1(CO)    0.879288     1.000000  0.790670  0.883795       0.892964   \n",
       "NMHC(GT)       0.889734     0.790670  1.000000  0.902559       0.877696   \n",
       "NOx(GT)        0.795028     0.713654  0.812685  0.718839       0.704435   \n",
       "NO2(GT)        0.683343     0.641529  0.731193  0.614474       0.646245   \n",
       "PT08.S4(NO2)   0.630703     0.682881  0.853267  0.765731       0.777254   \n",
       "AH             0.048556     0.135324  0.269738  0.167972       0.186933   \n",
       "RH             0.048890     0.114606 -0.191454 -0.061681      -0.090380   \n",
       "T              0.022109     0.048627  0.391587  0.198956       0.241373   \n",
       "PT08.S3(NOx)  -0.703446    -0.771938 -0.771135 -0.735744      -0.796703   \n",
       "\n",
       "                NOx(GT)  PT08.S3(NOx)   NO2(GT)  PT08.S4(NO2)  PT08.S5(O3)  \\\n",
       "Target         0.676757     -0.608054  0.608146      0.497469     0.756721   \n",
       "CO(GT)         0.795028     -0.703446  0.683343      0.630703     0.854182   \n",
       "PT08.S5(O3)    0.787046     -0.796569  0.708128      0.591144     1.000000   \n",
       "PT08.S2(NMHC)  0.704435     -0.796703  0.646245      0.777254     0.880578   \n",
       "C6H6(GT)       0.718839     -0.735744  0.614474      0.765731     0.865689   \n",
       "PT08.S1(CO)    0.713654     -0.771938  0.641529      0.682881     0.899324   \n",
       "NMHC(GT)       0.812685     -0.771135  0.731193      0.853267     0.766723   \n",
       "NOx(GT)        1.000000     -0.655707  0.763111      0.233731     0.787046   \n",
       "NO2(GT)        0.763111     -0.652083  1.000000      0.157360     0.708128   \n",
       "PT08.S4(NO2)   0.233731     -0.538468  0.157360      1.000000     0.591144   \n",
       "AH            -0.149323     -0.232017 -0.335022      0.629641     0.070751   \n",
       "RH             0.221032     -0.056740 -0.091759     -0.032188     0.124956   \n",
       "T             -0.269683     -0.145112 -0.186533      0.561270    -0.027172   \n",
       "PT08.S3(NOx)  -0.655707      1.000000 -0.652083     -0.538468    -0.796569   \n",
       "\n",
       "                      T        RH        AH    Target  \n",
       "Target         0.028878  0.040216  0.054754  1.000000  \n",
       "CO(GT)         0.022109  0.048890  0.048556  0.837037  \n",
       "PT08.S5(O3)   -0.027172  0.124956  0.070751  0.756721  \n",
       "PT08.S2(NMHC)  0.241373 -0.090380  0.186933  0.752732  \n",
       "C6H6(GT)       0.198956 -0.061681  0.167972  0.748222  \n",
       "PT08.S1(CO)    0.048627  0.114606  0.135324  0.730806  \n",
       "NMHC(GT)       0.391587 -0.191454  0.269738  0.702962  \n",
       "NOx(GT)       -0.269683  0.221032 -0.149323  0.676757  \n",
       "NO2(GT)       -0.186533 -0.091759 -0.335022  0.608146  \n",
       "PT08.S4(NO2)   0.561270 -0.032188  0.629641  0.497469  \n",
       "AH             0.656397  0.167971  1.000000  0.054754  \n",
       "RH            -0.578621  1.000000  0.167971  0.040216  \n",
       "T              1.000000 -0.578621  0.656397  0.028878  \n",
       "PT08.S3(NOx)  -0.145112 -0.056740 -0.232017 -0.608054  "
      ]
     },
     "execution_count": 34,
     "metadata": {},
     "output_type": "execute_result"
    }
   ],
   "source": [
    "df.corr(method=\"pearson\").sort_values(by=\"Target\", ascending=False)"
   ]
  },
  {
   "cell_type": "code",
   "execution_count": 35,
   "metadata": {},
   "outputs": [
    {
     "data": {
      "text/plain": [
       "'\\n\\nQ-8\\n\\nUse these variables(along with the CO concentration) as inputs for a linear regression predicting\\nthe CO concentration one hour ahead. \\n\\nFor simplicity we recommend using the scikit-learn LinearRegression implementation, but you should\\nexclude rows containing any missing values. \\n\\nSplit your dataset into a training and testing set with a 60-40 ratio.\\n\\nCalculate the mean absolute error, root mean squared error and coefficient of determination\\n(\"R squared\") of your model on the test set.\\n\\nMean absolute error\\n\"______\" \\n\\nRoot mean square error\\n\"______\" \\n\\nR squared\\n\"______\" \\n\\n\\n'"
      ]
     },
     "execution_count": 35,
     "metadata": {},
     "output_type": "execute_result"
    }
   ],
   "source": [
    "\"\"\"\n",
    "\n",
    "Q-8\n",
    "\n",
    "Use these variables(along with the CO concentration) as inputs for a linear regression predicting\n",
    "the CO concentration one hour ahead. \n",
    "\n",
    "For simplicity we recommend using the scikit-learn LinearRegression implementation, but you should\n",
    "exclude rows containing any missing values. \n",
    "\n",
    "Split your dataset into a training and testing set with a 60-40 ratio.\n",
    "\n",
    "Calculate the mean absolute error, root mean squared error and coefficient of determination\n",
    "(\"R squared\") of your model on the test set.\n",
    "\n",
    "Mean absolute error\n",
    "\"______\" \n",
    "\n",
    "Root mean square error\n",
    "\"______\" \n",
    "\n",
    "R squared\n",
    "\"______\" \n",
    "\n",
    "\n",
    "\"\"\""
   ]
  },
  {
   "cell_type": "code",
   "execution_count": 36,
   "metadata": {},
   "outputs": [
    {
     "data": {
      "text/plain": [
       "CO(GT)           1797\n",
       "PT08.S1(CO)       480\n",
       "NMHC(GT)         8557\n",
       "C6H6(GT)          480\n",
       "PT08.S2(NMHC)     480\n",
       "NOx(GT)          1753\n",
       "PT08.S3(NOx)      480\n",
       "NO2(GT)          1756\n",
       "PT08.S4(NO2)      480\n",
       "PT08.S5(O3)       480\n",
       "T                 480\n",
       "RH                480\n",
       "AH                480\n",
       "Target           1797\n",
       "dtype: int64"
      ]
     },
     "execution_count": 36,
     "metadata": {},
     "output_type": "execute_result"
    }
   ],
   "source": [
    "df.isnull().sum()"
   ]
  },
  {
   "cell_type": "code",
   "execution_count": 37,
   "metadata": {},
   "outputs": [],
   "source": [
    "df.dropna(axis=0,inplace=True)"
   ]
  },
  {
   "cell_type": "code",
   "execution_count": 38,
   "metadata": {},
   "outputs": [
    {
     "data": {
      "text/plain": [
       "CO(GT)           0\n",
       "PT08.S1(CO)      0\n",
       "NMHC(GT)         0\n",
       "C6H6(GT)         0\n",
       "PT08.S2(NMHC)    0\n",
       "NOx(GT)          0\n",
       "PT08.S3(NOx)     0\n",
       "NO2(GT)          0\n",
       "PT08.S4(NO2)     0\n",
       "PT08.S5(O3)      0\n",
       "T                0\n",
       "RH               0\n",
       "AH               0\n",
       "Target           0\n",
       "dtype: int64"
      ]
     },
     "execution_count": 38,
     "metadata": {},
     "output_type": "execute_result"
    }
   ],
   "source": [
    "df.isnull().sum()"
   ]
  },
  {
   "cell_type": "code",
   "execution_count": 39,
   "metadata": {},
   "outputs": [],
   "source": [
    "from sklearn.model_selection import train_test_split\n",
    "X =  df[df.columns.difference(['Target'])]\n",
    "Y = df[\"Target\"]"
   ]
  },
  {
   "cell_type": "code",
   "execution_count": 40,
   "metadata": {},
   "outputs": [
    {
     "name": "stdout",
     "output_type": "stream",
     "text": [
      "<class 'pandas.core.frame.DataFrame'>\n",
      "DatetimeIndex: 798 entries, 2004-03-10 19:00:00 to 2004-05-01 00:00:00\n",
      "Data columns (total 13 columns):\n",
      " #   Column         Non-Null Count  Dtype  \n",
      "---  ------         --------------  -----  \n",
      " 0   AH             798 non-null    float64\n",
      " 1   C6H6(GT)       798 non-null    float64\n",
      " 2   CO(GT)         798 non-null    float64\n",
      " 3   NMHC(GT)       798 non-null    float64\n",
      " 4   NO2(GT)        798 non-null    float64\n",
      " 5   NOx(GT)        798 non-null    float64\n",
      " 6   PT08.S1(CO)    798 non-null    float64\n",
      " 7   PT08.S2(NMHC)  798 non-null    float64\n",
      " 8   PT08.S3(NOx)   798 non-null    float64\n",
      " 9   PT08.S4(NO2)   798 non-null    float64\n",
      " 10  PT08.S5(O3)    798 non-null    float64\n",
      " 11  RH             798 non-null    float64\n",
      " 12  T              798 non-null    float64\n",
      "dtypes: float64(13)\n",
      "memory usage: 87.3 KB\n"
     ]
    }
   ],
   "source": [
    "X.info()"
   ]
  },
  {
   "cell_type": "code",
   "execution_count": 41,
   "metadata": {},
   "outputs": [
    {
     "data": {
      "text/plain": [
       "Date\n",
       "2004-03-10 19:00:00    2.6\n",
       "2004-03-10 20:00:00    2.0\n",
       "2004-03-10 21:00:00    2.2\n",
       "2004-03-10 22:00:00    2.2\n",
       "2004-03-10 23:00:00    1.6\n",
       "                      ... \n",
       "2004-04-30 20:00:00    5.7\n",
       "2004-04-30 21:00:00    4.4\n",
       "2004-04-30 22:00:00    3.1\n",
       "2004-04-30 23:00:00    3.0\n",
       "2004-05-01 00:00:00    3.1\n",
       "Name: Target, Length: 798, dtype: float64"
      ]
     },
     "execution_count": 41,
     "metadata": {},
     "output_type": "execute_result"
    }
   ],
   "source": [
    "Y"
   ]
  },
  {
   "cell_type": "code",
   "execution_count": 42,
   "metadata": {},
   "outputs": [],
   "source": [
    "X_train, X_test, y_train, y_test=train_test_split(X, Y, test_size=0.4)"
   ]
  },
  {
   "cell_type": "code",
   "execution_count": 43,
   "metadata": {},
   "outputs": [
    {
     "data": {
      "text/plain": [
       "LinearRegression()"
      ]
     },
     "execution_count": 43,
     "metadata": {},
     "output_type": "execute_result"
    }
   ],
   "source": [
    "from sklearn import linear_model\n",
    "regr = linear_model.LinearRegression()\n",
    "regr.fit(X_train, y_train)"
   ]
  },
  {
   "cell_type": "code",
   "execution_count": 44,
   "metadata": {},
   "outputs": [
    {
     "data": {
      "text/plain": [
       "array([2.38452425, 1.76522408, 3.5804659 , 1.77119577, 1.82465687])"
      ]
     },
     "execution_count": 44,
     "metadata": {},
     "output_type": "execute_result"
    }
   ],
   "source": [
    "y_pred=regr.predict(X_test)\n",
    "y_pred[:5]"
   ]
  },
  {
   "cell_type": "code",
   "execution_count": 45,
   "metadata": {},
   "outputs": [
    {
     "data": {
      "text/plain": [
       "Date\n",
       "2004-03-25 16:00:00    1.9\n",
       "2004-04-02 07:00:00    1.1\n",
       "2004-04-01 10:00:00    4.6\n",
       "2004-03-29 11:00:00    1.5\n",
       "2004-03-25 11:00:00    2.3\n",
       "                      ... \n",
       "2004-03-26 23:00:00    1.2\n",
       "2004-03-31 13:00:00    2.9\n",
       "2004-03-30 21:00:00    2.4\n",
       "2004-04-12 01:00:00    0.7\n",
       "2004-04-07 19:00:00    3.3\n",
       "Name: Target, Length: 320, dtype: float64"
      ]
     },
     "execution_count": 45,
     "metadata": {},
     "output_type": "execute_result"
    }
   ],
   "source": [
    "y_test"
   ]
  },
  {
   "cell_type": "code",
   "execution_count": 46,
   "metadata": {},
   "outputs": [
    {
     "data": {
      "text/plain": [
       "0.5669808626269817"
      ]
     },
     "execution_count": 46,
     "metadata": {},
     "output_type": "execute_result"
    }
   ],
   "source": [
    "from sklearn.metrics import mean_absolute_error\n",
    "mean_absolute_error(y_test, y_pred)"
   ]
  },
  {
   "cell_type": "code",
   "execution_count": 47,
   "metadata": {},
   "outputs": [
    {
     "data": {
      "text/plain": [
       "0.6118530283526281"
      ]
     },
     "execution_count": 47,
     "metadata": {},
     "output_type": "execute_result"
    }
   ],
   "source": [
    "from sklearn.metrics import mean_squared_error\n",
    "from math import sqrt\n",
    "\n",
    "mean_squared_error(y_test, y_pred)"
   ]
  },
  {
   "cell_type": "code",
   "execution_count": 48,
   "metadata": {},
   "outputs": [
    {
     "data": {
      "text/plain": [
       "0.7822103478941123"
      ]
     },
     "execution_count": 48,
     "metadata": {},
     "output_type": "execute_result"
    }
   ],
   "source": [
    "# taking root of mean squared error\n",
    "sqrt(mean_squared_error(y_test, y_pred))"
   ]
  },
  {
   "cell_type": "code",
   "execution_count": 49,
   "metadata": {},
   "outputs": [
    {
     "data": {
      "text/plain": [
       "0.7208112480919309"
      ]
     },
     "execution_count": 49,
     "metadata": {},
     "output_type": "execute_result"
    }
   ],
   "source": [
    "from sklearn.metrics import r2_score\n",
    "r2_score(y_test,y_pred)"
   ]
  },
  {
   "cell_type": "code",
   "execution_count": 50,
   "metadata": {},
   "outputs": [
    {
     "data": {
      "text/plain": [
       "'\\n\\nQ-9\\n\\nConstruct a simple benchmark model that says the prediction for the CO concentration for the next\\nhour is the same as the current hour.\\n\\nCalculate the same 3 regression metrics.\\n\\nMean absolute error\\n\"______\" \\n\\nRoot mean square error\\n\"______\" \\n\\nR squared\\n\"______\" \\n\\n\\n'"
      ]
     },
     "execution_count": 50,
     "metadata": {},
     "output_type": "execute_result"
    }
   ],
   "source": [
    "\"\"\"\n",
    "\n",
    "Q-9\n",
    "\n",
    "Construct a simple benchmark model that says the prediction for the CO concentration for the next\n",
    "hour is the same as the current hour.\n",
    "\n",
    "Calculate the same 3 regression metrics.\n",
    "\n",
    "Mean absolute error\n",
    "\"______\" \n",
    "\n",
    "Root mean square error\n",
    "\"______\" \n",
    "\n",
    "R squared\n",
    "\"______\" \n",
    "\n",
    "\n",
    "\"\"\""
   ]
  },
  {
   "cell_type": "code",
   "execution_count": 51,
   "metadata": {},
   "outputs": [],
   "source": [
    "df[\"CO_pred\"] = pd.Series(y_pred.tolist(),index=df.index[:320])"
   ]
  },
  {
   "cell_type": "code",
   "execution_count": 52,
   "metadata": {},
   "outputs": [
    {
     "data": {
      "text/html": [
       "<div>\n",
       "<style scoped>\n",
       "    .dataframe tbody tr th:only-of-type {\n",
       "        vertical-align: middle;\n",
       "    }\n",
       "\n",
       "    .dataframe tbody tr th {\n",
       "        vertical-align: top;\n",
       "    }\n",
       "\n",
       "    .dataframe thead th {\n",
       "        text-align: right;\n",
       "    }\n",
       "</style>\n",
       "<table border=\"1\" class=\"dataframe\">\n",
       "  <thead>\n",
       "    <tr style=\"text-align: right;\">\n",
       "      <th></th>\n",
       "      <th>CO(GT)</th>\n",
       "      <th>PT08.S1(CO)</th>\n",
       "      <th>NMHC(GT)</th>\n",
       "      <th>C6H6(GT)</th>\n",
       "      <th>PT08.S2(NMHC)</th>\n",
       "      <th>NOx(GT)</th>\n",
       "      <th>PT08.S3(NOx)</th>\n",
       "      <th>NO2(GT)</th>\n",
       "      <th>PT08.S4(NO2)</th>\n",
       "      <th>PT08.S5(O3)</th>\n",
       "      <th>T</th>\n",
       "      <th>RH</th>\n",
       "      <th>AH</th>\n",
       "      <th>Target</th>\n",
       "      <th>CO_pred</th>\n",
       "    </tr>\n",
       "    <tr>\n",
       "      <th>Date</th>\n",
       "      <th></th>\n",
       "      <th></th>\n",
       "      <th></th>\n",
       "      <th></th>\n",
       "      <th></th>\n",
       "      <th></th>\n",
       "      <th></th>\n",
       "      <th></th>\n",
       "      <th></th>\n",
       "      <th></th>\n",
       "      <th></th>\n",
       "      <th></th>\n",
       "      <th></th>\n",
       "      <th></th>\n",
       "      <th></th>\n",
       "    </tr>\n",
       "  </thead>\n",
       "  <tbody>\n",
       "    <tr>\n",
       "      <th>2004-03-10 19:00:00</th>\n",
       "      <td>2.0</td>\n",
       "      <td>1292.0</td>\n",
       "      <td>112.0</td>\n",
       "      <td>9.4</td>\n",
       "      <td>955.0</td>\n",
       "      <td>103.0</td>\n",
       "      <td>1174.0</td>\n",
       "      <td>92.0</td>\n",
       "      <td>1559.0</td>\n",
       "      <td>972.0</td>\n",
       "      <td>13.3</td>\n",
       "      <td>47.7</td>\n",
       "      <td>0.7255</td>\n",
       "      <td>2.6</td>\n",
       "      <td>2.384524</td>\n",
       "    </tr>\n",
       "    <tr>\n",
       "      <th>2004-03-10 20:00:00</th>\n",
       "      <td>2.2</td>\n",
       "      <td>1402.0</td>\n",
       "      <td>88.0</td>\n",
       "      <td>9.0</td>\n",
       "      <td>939.0</td>\n",
       "      <td>131.0</td>\n",
       "      <td>1140.0</td>\n",
       "      <td>114.0</td>\n",
       "      <td>1555.0</td>\n",
       "      <td>1074.0</td>\n",
       "      <td>11.9</td>\n",
       "      <td>54.0</td>\n",
       "      <td>0.7502</td>\n",
       "      <td>2.0</td>\n",
       "      <td>1.765224</td>\n",
       "    </tr>\n",
       "    <tr>\n",
       "      <th>2004-03-10 21:00:00</th>\n",
       "      <td>2.2</td>\n",
       "      <td>1376.0</td>\n",
       "      <td>80.0</td>\n",
       "      <td>9.2</td>\n",
       "      <td>948.0</td>\n",
       "      <td>172.0</td>\n",
       "      <td>1092.0</td>\n",
       "      <td>122.0</td>\n",
       "      <td>1584.0</td>\n",
       "      <td>1203.0</td>\n",
       "      <td>11.0</td>\n",
       "      <td>60.0</td>\n",
       "      <td>0.7867</td>\n",
       "      <td>2.2</td>\n",
       "      <td>3.580466</td>\n",
       "    </tr>\n",
       "    <tr>\n",
       "      <th>2004-03-10 22:00:00</th>\n",
       "      <td>1.6</td>\n",
       "      <td>1272.0</td>\n",
       "      <td>51.0</td>\n",
       "      <td>6.5</td>\n",
       "      <td>836.0</td>\n",
       "      <td>131.0</td>\n",
       "      <td>1205.0</td>\n",
       "      <td>116.0</td>\n",
       "      <td>1490.0</td>\n",
       "      <td>1110.0</td>\n",
       "      <td>11.2</td>\n",
       "      <td>59.6</td>\n",
       "      <td>0.7888</td>\n",
       "      <td>2.2</td>\n",
       "      <td>1.771196</td>\n",
       "    </tr>\n",
       "    <tr>\n",
       "      <th>2004-03-10 23:00:00</th>\n",
       "      <td>1.2</td>\n",
       "      <td>1197.0</td>\n",
       "      <td>38.0</td>\n",
       "      <td>4.7</td>\n",
       "      <td>750.0</td>\n",
       "      <td>89.0</td>\n",
       "      <td>1337.0</td>\n",
       "      <td>96.0</td>\n",
       "      <td>1393.0</td>\n",
       "      <td>949.0</td>\n",
       "      <td>11.2</td>\n",
       "      <td>59.2</td>\n",
       "      <td>0.7848</td>\n",
       "      <td>1.6</td>\n",
       "      <td>1.824657</td>\n",
       "    </tr>\n",
       "  </tbody>\n",
       "</table>\n",
       "</div>"
      ],
      "text/plain": [
       "                     CO(GT)  PT08.S1(CO)  NMHC(GT)  C6H6(GT)  PT08.S2(NMHC)  \\\n",
       "Date                                                                          \n",
       "2004-03-10 19:00:00     2.0       1292.0     112.0       9.4          955.0   \n",
       "2004-03-10 20:00:00     2.2       1402.0      88.0       9.0          939.0   \n",
       "2004-03-10 21:00:00     2.2       1376.0      80.0       9.2          948.0   \n",
       "2004-03-10 22:00:00     1.6       1272.0      51.0       6.5          836.0   \n",
       "2004-03-10 23:00:00     1.2       1197.0      38.0       4.7          750.0   \n",
       "\n",
       "                     NOx(GT)  PT08.S3(NOx)  NO2(GT)  PT08.S4(NO2)  \\\n",
       "Date                                                                \n",
       "2004-03-10 19:00:00    103.0        1174.0     92.0        1559.0   \n",
       "2004-03-10 20:00:00    131.0        1140.0    114.0        1555.0   \n",
       "2004-03-10 21:00:00    172.0        1092.0    122.0        1584.0   \n",
       "2004-03-10 22:00:00    131.0        1205.0    116.0        1490.0   \n",
       "2004-03-10 23:00:00     89.0        1337.0     96.0        1393.0   \n",
       "\n",
       "                     PT08.S5(O3)     T    RH      AH  Target   CO_pred  \n",
       "Date                                                                    \n",
       "2004-03-10 19:00:00        972.0  13.3  47.7  0.7255     2.6  2.384524  \n",
       "2004-03-10 20:00:00       1074.0  11.9  54.0  0.7502     2.0  1.765224  \n",
       "2004-03-10 21:00:00       1203.0  11.0  60.0  0.7867     2.2  3.580466  \n",
       "2004-03-10 22:00:00       1110.0  11.2  59.6  0.7888     2.2  1.771196  \n",
       "2004-03-10 23:00:00        949.0  11.2  59.2  0.7848     1.6  1.824657  "
      ]
     },
     "execution_count": 52,
     "metadata": {},
     "output_type": "execute_result"
    }
   ],
   "source": [
    "df.head()"
   ]
  },
  {
   "cell_type": "code",
   "execution_count": 53,
   "metadata": {},
   "outputs": [
    {
     "name": "stdout",
     "output_type": "stream",
     "text": [
      "<class 'pandas.core.frame.DataFrame'>\n",
      "DatetimeIndex: 798 entries, 2004-03-10 19:00:00 to 2004-05-01 00:00:00\n",
      "Data columns (total 15 columns):\n",
      " #   Column         Non-Null Count  Dtype  \n",
      "---  ------         --------------  -----  \n",
      " 0   CO(GT)         798 non-null    float64\n",
      " 1   PT08.S1(CO)    798 non-null    float64\n",
      " 2   NMHC(GT)       798 non-null    float64\n",
      " 3   C6H6(GT)       798 non-null    float64\n",
      " 4   PT08.S2(NMHC)  798 non-null    float64\n",
      " 5   NOx(GT)        798 non-null    float64\n",
      " 6   PT08.S3(NOx)   798 non-null    float64\n",
      " 7   NO2(GT)        798 non-null    float64\n",
      " 8   PT08.S4(NO2)   798 non-null    float64\n",
      " 9   PT08.S5(O3)    798 non-null    float64\n",
      " 10  T              798 non-null    float64\n",
      " 11  RH             798 non-null    float64\n",
      " 12  AH             798 non-null    float64\n",
      " 13  Target         798 non-null    float64\n",
      " 14  CO_pred        320 non-null    float64\n",
      "dtypes: float64(15)\n",
      "memory usage: 99.8 KB\n"
     ]
    }
   ],
   "source": [
    "df.info()"
   ]
  },
  {
   "cell_type": "code",
   "execution_count": 54,
   "metadata": {},
   "outputs": [
    {
     "data": {
      "text/plain": [
       "CO(GT)             0\n",
       "PT08.S1(CO)        0\n",
       "NMHC(GT)           0\n",
       "C6H6(GT)           0\n",
       "PT08.S2(NMHC)      0\n",
       "NOx(GT)            0\n",
       "PT08.S3(NOx)       0\n",
       "NO2(GT)            0\n",
       "PT08.S4(NO2)       0\n",
       "PT08.S5(O3)        0\n",
       "T                  0\n",
       "RH                 0\n",
       "AH                 0\n",
       "Target             0\n",
       "CO_pred          478\n",
       "dtype: int64"
      ]
     },
     "execution_count": 54,
     "metadata": {},
     "output_type": "execute_result"
    }
   ],
   "source": [
    "df.isnull().sum()"
   ]
  },
  {
   "cell_type": "code",
   "execution_count": 55,
   "metadata": {},
   "outputs": [],
   "source": [
    "X_2 =  df[df.columns.difference(['CO(GT)'])]\n",
    "Y_2 = df[\"CO(GT)\"]"
   ]
  },
  {
   "cell_type": "code",
   "execution_count": 56,
   "metadata": {},
   "outputs": [],
   "source": [
    "X_train_2, X_test_2, y_train_2, y_test_2 =train_test_split(X, Y, test_size=0.4)"
   ]
  },
  {
   "cell_type": "code",
   "execution_count": 57,
   "metadata": {},
   "outputs": [
    {
     "data": {
      "text/plain": [
       "LinearRegression()"
      ]
     },
     "execution_count": 57,
     "metadata": {},
     "output_type": "execute_result"
    }
   ],
   "source": [
    "regr_2 = linear_model.LinearRegression()\n",
    "regr_2.fit(X_train_2, y_train_2)"
   ]
  },
  {
   "cell_type": "code",
   "execution_count": 58,
   "metadata": {},
   "outputs": [
    {
     "data": {
      "text/plain": [
       "array([2.1381584 , 0.90024127, 2.07248481, 1.09162474, 1.24272827])"
      ]
     },
     "execution_count": 58,
     "metadata": {},
     "output_type": "execute_result"
    }
   ],
   "source": [
    "y_pred_2=regr_2.predict(X_test_2)\n",
    "y_pred_2[:5]"
   ]
  },
  {
   "cell_type": "code",
   "execution_count": 59,
   "metadata": {},
   "outputs": [
    {
     "data": {
      "text/plain": [
       "0.4977462885147002"
      ]
     },
     "execution_count": 59,
     "metadata": {},
     "output_type": "execute_result"
    }
   ],
   "source": [
    "mean_absolute_error(y_test_2, y_pred_2)"
   ]
  },
  {
   "cell_type": "code",
   "execution_count": 60,
   "metadata": {},
   "outputs": [
    {
     "data": {
      "text/plain": [
       "0.44858922750050956"
      ]
     },
     "execution_count": 60,
     "metadata": {},
     "output_type": "execute_result"
    }
   ],
   "source": [
    "mean_squared_error(y_test_2, y_pred_2)"
   ]
  },
  {
   "cell_type": "code",
   "execution_count": 61,
   "metadata": {},
   "outputs": [
    {
     "data": {
      "text/plain": [
       "0.6697680400709708"
      ]
     },
     "execution_count": 61,
     "metadata": {},
     "output_type": "execute_result"
    }
   ],
   "source": [
    "# taking root of mean squared error\n",
    "sqrt(mean_squared_error(y_test_2, y_pred_2))"
   ]
  },
  {
   "cell_type": "code",
   "execution_count": 62,
   "metadata": {},
   "outputs": [
    {
     "data": {
      "text/plain": [
       "0.7692015466905457"
      ]
     },
     "execution_count": 62,
     "metadata": {},
     "output_type": "execute_result"
    }
   ],
   "source": [
    "r2_score(y_test_2,y_pred_2)"
   ]
  },
  {
   "cell_type": "code",
   "execution_count": 63,
   "metadata": {},
   "outputs": [],
   "source": [
    "df[\"CO_pred_2\"] = pd.Series(y_pred_2.tolist(),index=df.index[:320])"
   ]
  },
  {
   "cell_type": "code",
   "execution_count": 64,
   "metadata": {},
   "outputs": [
    {
     "data": {
      "text/html": [
       "<div>\n",
       "<style scoped>\n",
       "    .dataframe tbody tr th:only-of-type {\n",
       "        vertical-align: middle;\n",
       "    }\n",
       "\n",
       "    .dataframe tbody tr th {\n",
       "        vertical-align: top;\n",
       "    }\n",
       "\n",
       "    .dataframe thead th {\n",
       "        text-align: right;\n",
       "    }\n",
       "</style>\n",
       "<table border=\"1\" class=\"dataframe\">\n",
       "  <thead>\n",
       "    <tr style=\"text-align: right;\">\n",
       "      <th></th>\n",
       "      <th>CO(GT)</th>\n",
       "      <th>PT08.S1(CO)</th>\n",
       "      <th>NMHC(GT)</th>\n",
       "      <th>C6H6(GT)</th>\n",
       "      <th>PT08.S2(NMHC)</th>\n",
       "      <th>NOx(GT)</th>\n",
       "      <th>PT08.S3(NOx)</th>\n",
       "      <th>NO2(GT)</th>\n",
       "      <th>PT08.S4(NO2)</th>\n",
       "      <th>PT08.S5(O3)</th>\n",
       "      <th>T</th>\n",
       "      <th>RH</th>\n",
       "      <th>AH</th>\n",
       "      <th>Target</th>\n",
       "      <th>CO_pred</th>\n",
       "      <th>CO_pred_2</th>\n",
       "    </tr>\n",
       "    <tr>\n",
       "      <th>Date</th>\n",
       "      <th></th>\n",
       "      <th></th>\n",
       "      <th></th>\n",
       "      <th></th>\n",
       "      <th></th>\n",
       "      <th></th>\n",
       "      <th></th>\n",
       "      <th></th>\n",
       "      <th></th>\n",
       "      <th></th>\n",
       "      <th></th>\n",
       "      <th></th>\n",
       "      <th></th>\n",
       "      <th></th>\n",
       "      <th></th>\n",
       "      <th></th>\n",
       "    </tr>\n",
       "  </thead>\n",
       "  <tbody>\n",
       "    <tr>\n",
       "      <th>2004-03-10 19:00:00</th>\n",
       "      <td>2.0</td>\n",
       "      <td>1292.0</td>\n",
       "      <td>112.0</td>\n",
       "      <td>9.4</td>\n",
       "      <td>955.0</td>\n",
       "      <td>103.0</td>\n",
       "      <td>1174.0</td>\n",
       "      <td>92.0</td>\n",
       "      <td>1559.0</td>\n",
       "      <td>972.0</td>\n",
       "      <td>13.3</td>\n",
       "      <td>47.7</td>\n",
       "      <td>0.7255</td>\n",
       "      <td>2.6</td>\n",
       "      <td>2.384524</td>\n",
       "      <td>2.138158</td>\n",
       "    </tr>\n",
       "    <tr>\n",
       "      <th>2004-03-10 20:00:00</th>\n",
       "      <td>2.2</td>\n",
       "      <td>1402.0</td>\n",
       "      <td>88.0</td>\n",
       "      <td>9.0</td>\n",
       "      <td>939.0</td>\n",
       "      <td>131.0</td>\n",
       "      <td>1140.0</td>\n",
       "      <td>114.0</td>\n",
       "      <td>1555.0</td>\n",
       "      <td>1074.0</td>\n",
       "      <td>11.9</td>\n",
       "      <td>54.0</td>\n",
       "      <td>0.7502</td>\n",
       "      <td>2.0</td>\n",
       "      <td>1.765224</td>\n",
       "      <td>0.900241</td>\n",
       "    </tr>\n",
       "    <tr>\n",
       "      <th>2004-03-10 21:00:00</th>\n",
       "      <td>2.2</td>\n",
       "      <td>1376.0</td>\n",
       "      <td>80.0</td>\n",
       "      <td>9.2</td>\n",
       "      <td>948.0</td>\n",
       "      <td>172.0</td>\n",
       "      <td>1092.0</td>\n",
       "      <td>122.0</td>\n",
       "      <td>1584.0</td>\n",
       "      <td>1203.0</td>\n",
       "      <td>11.0</td>\n",
       "      <td>60.0</td>\n",
       "      <td>0.7867</td>\n",
       "      <td>2.2</td>\n",
       "      <td>3.580466</td>\n",
       "      <td>2.072485</td>\n",
       "    </tr>\n",
       "    <tr>\n",
       "      <th>2004-03-10 22:00:00</th>\n",
       "      <td>1.6</td>\n",
       "      <td>1272.0</td>\n",
       "      <td>51.0</td>\n",
       "      <td>6.5</td>\n",
       "      <td>836.0</td>\n",
       "      <td>131.0</td>\n",
       "      <td>1205.0</td>\n",
       "      <td>116.0</td>\n",
       "      <td>1490.0</td>\n",
       "      <td>1110.0</td>\n",
       "      <td>11.2</td>\n",
       "      <td>59.6</td>\n",
       "      <td>0.7888</td>\n",
       "      <td>2.2</td>\n",
       "      <td>1.771196</td>\n",
       "      <td>1.091625</td>\n",
       "    </tr>\n",
       "    <tr>\n",
       "      <th>2004-03-10 23:00:00</th>\n",
       "      <td>1.2</td>\n",
       "      <td>1197.0</td>\n",
       "      <td>38.0</td>\n",
       "      <td>4.7</td>\n",
       "      <td>750.0</td>\n",
       "      <td>89.0</td>\n",
       "      <td>1337.0</td>\n",
       "      <td>96.0</td>\n",
       "      <td>1393.0</td>\n",
       "      <td>949.0</td>\n",
       "      <td>11.2</td>\n",
       "      <td>59.2</td>\n",
       "      <td>0.7848</td>\n",
       "      <td>1.6</td>\n",
       "      <td>1.824657</td>\n",
       "      <td>1.242728</td>\n",
       "    </tr>\n",
       "  </tbody>\n",
       "</table>\n",
       "</div>"
      ],
      "text/plain": [
       "                     CO(GT)  PT08.S1(CO)  NMHC(GT)  C6H6(GT)  PT08.S2(NMHC)  \\\n",
       "Date                                                                          \n",
       "2004-03-10 19:00:00     2.0       1292.0     112.0       9.4          955.0   \n",
       "2004-03-10 20:00:00     2.2       1402.0      88.0       9.0          939.0   \n",
       "2004-03-10 21:00:00     2.2       1376.0      80.0       9.2          948.0   \n",
       "2004-03-10 22:00:00     1.6       1272.0      51.0       6.5          836.0   \n",
       "2004-03-10 23:00:00     1.2       1197.0      38.0       4.7          750.0   \n",
       "\n",
       "                     NOx(GT)  PT08.S3(NOx)  NO2(GT)  PT08.S4(NO2)  \\\n",
       "Date                                                                \n",
       "2004-03-10 19:00:00    103.0        1174.0     92.0        1559.0   \n",
       "2004-03-10 20:00:00    131.0        1140.0    114.0        1555.0   \n",
       "2004-03-10 21:00:00    172.0        1092.0    122.0        1584.0   \n",
       "2004-03-10 22:00:00    131.0        1205.0    116.0        1490.0   \n",
       "2004-03-10 23:00:00     89.0        1337.0     96.0        1393.0   \n",
       "\n",
       "                     PT08.S5(O3)     T    RH      AH  Target   CO_pred  \\\n",
       "Date                                                                     \n",
       "2004-03-10 19:00:00        972.0  13.3  47.7  0.7255     2.6  2.384524   \n",
       "2004-03-10 20:00:00       1074.0  11.9  54.0  0.7502     2.0  1.765224   \n",
       "2004-03-10 21:00:00       1203.0  11.0  60.0  0.7867     2.2  3.580466   \n",
       "2004-03-10 22:00:00       1110.0  11.2  59.6  0.7888     2.2  1.771196   \n",
       "2004-03-10 23:00:00        949.0  11.2  59.2  0.7848     1.6  1.824657   \n",
       "\n",
       "                     CO_pred_2  \n",
       "Date                            \n",
       "2004-03-10 19:00:00   2.138158  \n",
       "2004-03-10 20:00:00   0.900241  \n",
       "2004-03-10 21:00:00   2.072485  \n",
       "2004-03-10 22:00:00   1.091625  \n",
       "2004-03-10 23:00:00   1.242728  "
      ]
     },
     "execution_count": 64,
     "metadata": {},
     "output_type": "execute_result"
    }
   ],
   "source": [
    "df.head()"
   ]
  },
  {
   "cell_type": "code",
   "execution_count": 65,
   "metadata": {
    "scrolled": true
   },
   "outputs": [
    {
     "name": "stdout",
     "output_type": "stream",
     "text": [
      "<class 'pandas.core.frame.DataFrame'>\n",
      "DatetimeIndex: 798 entries, 2004-03-10 19:00:00 to 2004-05-01 00:00:00\n",
      "Data columns (total 16 columns):\n",
      " #   Column         Non-Null Count  Dtype  \n",
      "---  ------         --------------  -----  \n",
      " 0   CO(GT)         798 non-null    float64\n",
      " 1   PT08.S1(CO)    798 non-null    float64\n",
      " 2   NMHC(GT)       798 non-null    float64\n",
      " 3   C6H6(GT)       798 non-null    float64\n",
      " 4   PT08.S2(NMHC)  798 non-null    float64\n",
      " 5   NOx(GT)        798 non-null    float64\n",
      " 6   PT08.S3(NOx)   798 non-null    float64\n",
      " 7   NO2(GT)        798 non-null    float64\n",
      " 8   PT08.S4(NO2)   798 non-null    float64\n",
      " 9   PT08.S5(O3)    798 non-null    float64\n",
      " 10  T              798 non-null    float64\n",
      " 11  RH             798 non-null    float64\n",
      " 12  AH             798 non-null    float64\n",
      " 13  Target         798 non-null    float64\n",
      " 14  CO_pred        320 non-null    float64\n",
      " 15  CO_pred_2      320 non-null    float64\n",
      "dtypes: float64(16)\n",
      "memory usage: 106.0 KB\n"
     ]
    }
   ],
   "source": [
    "df.info()"
   ]
  }
 ],
 "metadata": {
  "kernelspec": {
   "display_name": "Python 3",
   "language": "python",
   "name": "python3"
  },
  "language_info": {
   "codemirror_mode": {
    "name": "ipython",
    "version": 3
   },
   "file_extension": ".py",
   "mimetype": "text/x-python",
   "name": "python",
   "nbconvert_exporter": "python",
   "pygments_lexer": "ipython3",
   "version": "3.8.3"
  }
 },
 "nbformat": 4,
 "nbformat_minor": 4
}
